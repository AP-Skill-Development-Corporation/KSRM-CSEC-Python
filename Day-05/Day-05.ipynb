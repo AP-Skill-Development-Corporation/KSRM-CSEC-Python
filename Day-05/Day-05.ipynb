{
 "cells": [
  {
   "cell_type": "markdown",
   "id": "a4e72ebb",
   "metadata": {},
   "source": [
    "## Keyword Argument:"
   ]
  },
  {
   "cell_type": "code",
   "execution_count": 1,
   "id": "3d677a31",
   "metadata": {},
   "outputs": [
    {
     "name": "stdout",
     "output_type": "stream",
     "text": [
      "Enter Roll Number: 150\n",
      "Enter Name: Kalyani\n",
      "Enter Age: 25\n",
      "Roll Number: 150\n",
      "Name: Kalyani\n",
      "Age: 25\n"
     ]
    }
   ],
   "source": [
    "def stdnt(sr,sn,sa):\n",
    "    print(\"Roll Number: {}\".format(sr))\n",
    "    print(\"Name: {}\".format(sn))\n",
    "    print(\"Age: {}\".format(sa))\n",
    "    return\n",
    "\n",
    "a = input(\"Enter Roll Number: \")\n",
    "b = input(\"Enter Name: \")\n",
    "c = int(input(\"Enter Age: \"))\n",
    "stdnt(sr=a,sa=c,sn=b)"
   ]
  },
  {
   "cell_type": "code",
   "execution_count": 2,
   "id": "1a4015a0",
   "metadata": {},
   "outputs": [
    {
     "name": "stdout",
     "output_type": "stream",
     "text": [
      "Enter Roll Number: 1452\n",
      "Enter Name: Lalitha\n",
      "Enter Age: 29\n"
     ]
    },
    {
     "ename": "TypeError",
     "evalue": "stdnt() missing 1 required positional argument: 'kp'",
     "output_type": "error",
     "traceback": [
      "\u001b[1;31m---------------------------------------------------------------------------\u001b[0m",
      "\u001b[1;31mTypeError\u001b[0m                                 Traceback (most recent call last)",
      "Cell \u001b[1;32mIn[2], line 10\u001b[0m\n\u001b[0;32m      8\u001b[0m b \u001b[38;5;241m=\u001b[39m \u001b[38;5;28minput\u001b[39m(\u001b[38;5;124m\"\u001b[39m\u001b[38;5;124mEnter Name: \u001b[39m\u001b[38;5;124m\"\u001b[39m)\n\u001b[0;32m      9\u001b[0m c \u001b[38;5;241m=\u001b[39m \u001b[38;5;28mint\u001b[39m(\u001b[38;5;28minput\u001b[39m(\u001b[38;5;124m\"\u001b[39m\u001b[38;5;124mEnter Age: \u001b[39m\u001b[38;5;124m\"\u001b[39m))\n\u001b[1;32m---> 10\u001b[0m \u001b[43mstdnt\u001b[49m\u001b[43m(\u001b[49m\u001b[43msr\u001b[49m\u001b[38;5;241;43m=\u001b[39;49m\u001b[43ma\u001b[49m\u001b[43m,\u001b[49m\u001b[43msa\u001b[49m\u001b[38;5;241;43m=\u001b[39;49m\u001b[43mc\u001b[49m\u001b[43m,\u001b[49m\u001b[43msn\u001b[49m\u001b[38;5;241;43m=\u001b[39;49m\u001b[43mb\u001b[49m\u001b[43m)\u001b[49m\n",
      "\u001b[1;31mTypeError\u001b[0m: stdnt() missing 1 required positional argument: 'kp'"
     ]
    }
   ],
   "source": [
    "def stdnt(sr,sn,sa,kp):\n",
    "    print(\"Roll Number: {}\".format(sr))\n",
    "    print(\"Name: {}\".format(sn))\n",
    "    print(\"Age: {}\".format(sa))\n",
    "    return\n",
    "\n",
    "a = input(\"Enter Roll Number: \")\n",
    "b = input(\"Enter Name: \")\n",
    "c = int(input(\"Enter Age: \"))\n",
    "stdnt(sr=a,sa=c,sn=b)"
   ]
  },
  {
   "cell_type": "code",
   "execution_count": 4,
   "id": "813df306",
   "metadata": {},
   "outputs": [
    {
     "ename": "SyntaxError",
     "evalue": "non-default argument follows default argument (153174038.py, line 1)",
     "output_type": "error",
     "traceback": [
      "\u001b[1;36m  Cell \u001b[1;32mIn[4], line 1\u001b[1;36m\u001b[0m\n\u001b[1;33m    def stdnt(sr,kp='KDP',sn,sa):\u001b[0m\n\u001b[1;37m                             ^\u001b[0m\n\u001b[1;31mSyntaxError\u001b[0m\u001b[1;31m:\u001b[0m non-default argument follows default argument\n"
     ]
    }
   ],
   "source": [
    "def stdnt(sr,kp='KDP',sn,sa):\n",
    "    print(\"Roll Number: {}\".format(sr))\n",
    "    print(\"Name: {}\".format(sn))\n",
    "    print(\"Age: {}\".format(sa))\n",
    "    return\n",
    "\n",
    "a = input(\"Enter Roll Number: \")\n",
    "b = input(\"Enter Name: \")\n",
    "c = int(input(\"Enter Age: \"))\n",
    "stdnt(sr=a,sa=c,sn=b)"
   ]
  },
  {
   "cell_type": "code",
   "execution_count": 5,
   "id": "5b2fd020",
   "metadata": {},
   "outputs": [
    {
     "name": "stdout",
     "output_type": "stream",
     "text": [
      "Enter Roll Number: 345\n",
      "Enter Name: Dinesh\n",
      "Enter Age: 26\n"
     ]
    },
    {
     "ename": "TypeError",
     "evalue": "stdnt() got an unexpected keyword argument 'sb'",
     "output_type": "error",
     "traceback": [
      "\u001b[1;31m---------------------------------------------------------------------------\u001b[0m",
      "\u001b[1;31mTypeError\u001b[0m                                 Traceback (most recent call last)",
      "Cell \u001b[1;32mIn[5], line 10\u001b[0m\n\u001b[0;32m      8\u001b[0m b \u001b[38;5;241m=\u001b[39m \u001b[38;5;28minput\u001b[39m(\u001b[38;5;124m\"\u001b[39m\u001b[38;5;124mEnter Name: \u001b[39m\u001b[38;5;124m\"\u001b[39m)\n\u001b[0;32m      9\u001b[0m c \u001b[38;5;241m=\u001b[39m \u001b[38;5;28mint\u001b[39m(\u001b[38;5;28minput\u001b[39m(\u001b[38;5;124m\"\u001b[39m\u001b[38;5;124mEnter Age: \u001b[39m\u001b[38;5;124m\"\u001b[39m))\n\u001b[1;32m---> 10\u001b[0m \u001b[43mstdnt\u001b[49m\u001b[43m(\u001b[49m\u001b[43msr\u001b[49m\u001b[38;5;241;43m=\u001b[39;49m\u001b[43ma\u001b[49m\u001b[43m,\u001b[49m\u001b[43msa\u001b[49m\u001b[38;5;241;43m=\u001b[39;49m\u001b[43mc\u001b[49m\u001b[43m,\u001b[49m\u001b[43msb\u001b[49m\u001b[38;5;241;43m=\u001b[39;49m\u001b[43mb\u001b[49m\u001b[43m)\u001b[49m\n",
      "\u001b[1;31mTypeError\u001b[0m: stdnt() got an unexpected keyword argument 'sb'"
     ]
    }
   ],
   "source": [
    "def stdnt(sr,sn,sa):\n",
    "    print(\"Roll Number: {}\".format(sr))\n",
    "    print(\"Name: {}\".format(sn))\n",
    "    print(\"Age: {}\".format(sa))\n",
    "    return\n",
    "\n",
    "a = input(\"Enter Roll Number: \")\n",
    "b = input(\"Enter Name: \")\n",
    "c = int(input(\"Enter Age: \"))\n",
    "stdnt(sr=a,sa=c,sb=b)"
   ]
  },
  {
   "cell_type": "markdown",
   "id": "af3409d9",
   "metadata": {},
   "source": [
    "## Variable-Length Argument[Arbitary]"
   ]
  },
  {
   "cell_type": "code",
   "execution_count": 6,
   "id": "227bcce4",
   "metadata": {},
   "outputs": [
    {
     "name": "stdout",
     "output_type": "stream",
     "text": [
      "('45', 1, 89.0154, False, (5+4j), 78) <class 'tuple'>\n"
     ]
    }
   ],
   "source": [
    "def hy(*j):\n",
    "    print(j,type(j))\n",
    "    return\n",
    "\n",
    "hy('45',1,89.0154,False,5+4j,78)"
   ]
  },
  {
   "cell_type": "code",
   "execution_count": 7,
   "id": "dc6efcd8",
   "metadata": {},
   "outputs": [
    {
     "ename": "TypeError",
     "evalue": "hy() missing 1 required keyword-only argument: 'k'",
     "output_type": "error",
     "traceback": [
      "\u001b[1;31m---------------------------------------------------------------------------\u001b[0m",
      "\u001b[1;31mTypeError\u001b[0m                                 Traceback (most recent call last)",
      "Cell \u001b[1;32mIn[7], line 6\u001b[0m\n\u001b[0;32m      3\u001b[0m     \u001b[38;5;28mprint\u001b[39m(k,\u001b[38;5;28mtype\u001b[39m(k))\n\u001b[0;32m      4\u001b[0m     \u001b[38;5;28;01mreturn\u001b[39;00m\n\u001b[1;32m----> 6\u001b[0m \u001b[43mhy\u001b[49m\u001b[43m(\u001b[49m\u001b[38;5;124;43m'\u001b[39;49m\u001b[38;5;124;43m45\u001b[39;49m\u001b[38;5;124;43m'\u001b[39;49m\u001b[43m,\u001b[49m\u001b[38;5;241;43m1\u001b[39;49m\u001b[43m,\u001b[49m\u001b[38;5;241;43m89.0154\u001b[39;49m\u001b[43m,\u001b[49m\u001b[38;5;28;43;01mFalse\u001b[39;49;00m\u001b[43m,\u001b[49m\u001b[38;5;241;43m5\u001b[39;49m\u001b[38;5;241;43m+\u001b[39;49m\u001b[38;5;241;43m4\u001b[39;49m\u001b[43mj\u001b[49m\u001b[43m,\u001b[49m\u001b[38;5;241;43m78\u001b[39;49m\u001b[43m)\u001b[49m\n",
      "\u001b[1;31mTypeError\u001b[0m: hy() missing 1 required keyword-only argument: 'k'"
     ]
    }
   ],
   "source": [
    "def hy(*j,k):\n",
    "    print(j,type(j))\n",
    "    print(k,type(k))\n",
    "    return\n",
    "\n",
    "hy('45',1,89.0154,False,5+4j,78)"
   ]
  },
  {
   "cell_type": "code",
   "execution_count": 8,
   "id": "93ca1ff0",
   "metadata": {},
   "outputs": [
    {
     "name": "stdout",
     "output_type": "stream",
     "text": [
      "(1, 89.0154, False, (5+4j), 78) <class 'tuple'>\n",
      "45 <class 'str'>\n"
     ]
    }
   ],
   "source": [
    "def hy(k,*j):\n",
    "    print(j,type(j))\n",
    "    print(k,type(k))\n",
    "    return\n",
    "\n",
    "hy('45',1,89.0154,False,5+4j,78)"
   ]
  },
  {
   "cell_type": "code",
   "execution_count": 14,
   "id": "38e5b89c",
   "metadata": {},
   "outputs": [
    {
     "ename": "TypeError",
     "evalue": "hy() got an unexpected keyword argument 'sname'",
     "output_type": "error",
     "traceback": [
      "\u001b[1;31m---------------------------------------------------------------------------\u001b[0m",
      "\u001b[1;31mTypeError\u001b[0m                                 Traceback (most recent call last)",
      "Cell \u001b[1;32mIn[14], line 6\u001b[0m\n\u001b[0;32m      3\u001b[0m     \u001b[38;5;28mprint\u001b[39m(k,\u001b[38;5;28mtype\u001b[39m(k))\n\u001b[0;32m      4\u001b[0m     \u001b[38;5;28;01mreturn\u001b[39;00m\n\u001b[1;32m----> 6\u001b[0m \u001b[43mhy\u001b[49m\u001b[43m(\u001b[49m\u001b[38;5;124;43m'\u001b[39;49m\u001b[38;5;124;43m45\u001b[39;49m\u001b[38;5;124;43m'\u001b[39;49m\u001b[43m,\u001b[49m\u001b[38;5;241;43m1\u001b[39;49m\u001b[43m,\u001b[49m\u001b[38;5;241;43m89.0154\u001b[39;49m\u001b[43m,\u001b[49m\u001b[38;5;28;43;01mFalse\u001b[39;49;00m\u001b[43m,\u001b[49m\u001b[38;5;241;43m5\u001b[39;49m\u001b[38;5;241;43m+\u001b[39;49m\u001b[38;5;241;43m4\u001b[39;49m\u001b[43mj\u001b[49m\u001b[43m,\u001b[49m\u001b[38;5;241;43m78\u001b[39;49m\u001b[43m,\u001b[49m\u001b[43msname\u001b[49m\u001b[38;5;241;43m=\u001b[39;49m\u001b[38;5;124;43m'\u001b[39;49m\u001b[38;5;124;43mtilak\u001b[39;49m\u001b[38;5;124;43m'\u001b[39;49m\u001b[43m)\u001b[49m\n",
      "\u001b[1;31mTypeError\u001b[0m: hy() got an unexpected keyword argument 'sname'"
     ]
    }
   ],
   "source": [
    "def hy(k,*j):\n",
    "    print(j,type(j))\n",
    "    print(k,type(k))\n",
    "    return\n",
    "\n",
    "hy('45',1,89.0154,False,5+4j,78,sname='tilak')"
   ]
  },
  {
   "cell_type": "code",
   "execution_count": 11,
   "id": "23409b46",
   "metadata": {},
   "outputs": [
    {
     "name": "stdout",
     "output_type": "stream",
     "text": [
      "(89.0154, False, (5+4j), 78) <class 'tuple'>\n",
      "45 <class 'str'>\n",
      "1 <class 'int'>\n"
     ]
    }
   ],
   "source": [
    "def hy(k,m='KDP',*j):\n",
    "    print(j,type(j))\n",
    "    print(k,type(k))\n",
    "    print(m,type(m))\n",
    "    return\n",
    "\n",
    "hy('45',1,89.0154,False,5+4j,78)"
   ]
  },
  {
   "cell_type": "code",
   "execution_count": 13,
   "id": "546b6cdf",
   "metadata": {},
   "outputs": [
    {
     "name": "stdout",
     "output_type": "stream",
     "text": [
      "(89.0154, False, (5+4j), 78) <class 'tuple'>\n",
      "45 <class 'str'>\n",
      "1 <class 'int'>\n",
      "{'sname': 'Prasad', 'sage': 45} <class 'dict'>\n"
     ]
    }
   ],
   "source": [
    "def hy(k,m='KDP',*j,**y):\n",
    "    print(j,type(j))\n",
    "    print(k,type(k))\n",
    "    print(m,type(m))\n",
    "    print(y,type(y))\n",
    "    return\n",
    "\n",
    "hy('45',1,89.0154,False,5+4j,78,sname='Prasad',sage=45)"
   ]
  },
  {
   "cell_type": "code",
   "execution_count": 15,
   "id": "fc805f15",
   "metadata": {},
   "outputs": [
    {
     "ename": "SyntaxError",
     "evalue": "positional argument follows keyword argument (582740561.py, line 8)",
     "output_type": "error",
     "traceback": [
      "\u001b[1;36m  Cell \u001b[1;32mIn[15], line 8\u001b[1;36m\u001b[0m\n\u001b[1;33m    hy('45',1,89.0154,sage=45,False,5+4j,78,sname='Prasad')\u001b[0m\n\u001b[1;37m                                                          ^\u001b[0m\n\u001b[1;31mSyntaxError\u001b[0m\u001b[1;31m:\u001b[0m positional argument follows keyword argument\n"
     ]
    }
   ],
   "source": [
    "def hy(k,m='KDP',*j,**y):\n",
    "    print(j,type(j))\n",
    "    print(k,type(k))\n",
    "    print(m,type(m))\n",
    "    print(y,type(y))\n",
    "    return\n",
    "\n",
    "hy('45',1,89.0154,sage=45,False,5+4j,78,sname='Prasad')"
   ]
  },
  {
   "cell_type": "code",
   "execution_count": 17,
   "id": "b369712d",
   "metadata": {},
   "outputs": [
    {
     "name": "stdout",
     "output_type": "stream",
     "text": [
      "{'sname': 'suresh', 'saddr': 'KDP', 'sage': 25, 'sroll': 'KSRM105'} <class 'dict'>\n"
     ]
    }
   ],
   "source": [
    "def gy(**h):\n",
    "    print(h,type(h))\n",
    "    return\n",
    "\n",
    "gy(sname=\"suresh\",saddr='KDP',sage=25,sroll='KSRM105')"
   ]
  },
  {
   "cell_type": "markdown",
   "id": "9d09bd6f",
   "metadata": {},
   "source": [
    "## Data Structures:\n",
    "    - To organize the data in order or unorder format\n",
    "    - List\n",
    "    - Tuple\n",
    "    - Set\n",
    "    - Dictionary\n",
    "    - String\n",
    "    Iterator,Repititor or Data types"
   ]
  },
  {
   "cell_type": "markdown",
   "id": "5b9312c7",
   "metadata": {},
   "source": [
    "## List:\n",
    "    - It can be represented as \"[]\"\n",
    "    - It stores all data types values\n",
    "    - It stores data in ordered format with , seperation\n",
    "    - It allows duplicate values\n",
    "    - Slicing can be done because of index values\n",
    "    - It can be typecasted as list()\n",
    "    - It can changes a value [Muteable]"
   ]
  },
  {
   "cell_type": "markdown",
   "id": "a445f084",
   "metadata": {},
   "source": [
    "## Tuple:\n",
    "    - It can be represented as \"()\"\n",
    "    - It stores all data types values\n",
    "    - It stores data in order fromat with , seperation\n",
    "    - It allows duplicate values\n",
    "    - Slicing can be done because of index values\n",
    "    - It can be typecasted as tuple()\n",
    "    - It can't cahnges the values [Immuteable]"
   ]
  },
  {
   "cell_type": "markdown",
   "id": "7f886f5e",
   "metadata": {},
   "source": [
    "## Set:\n",
    "    - It can be represented as \"{}\" but wit single data type value\n",
    "    - It stores all data type values\n",
    "    - It stores data in unorder format with , seperation\n",
    "    - It doesnt allows duplicate values\n",
    "    - Slicing can't be done because of no index\n",
    "    - It can be typecasted as set()\n",
    "    - It can changes the values [Muteable]"
   ]
  },
  {
   "cell_type": "markdown",
   "id": "bedd5283",
   "metadata": {},
   "source": [
    "## Dictionary:\n",
    "    - It can be represented as \"{}\" with empty by default it is dictionary\n",
    "    - It can stores all data type values in key and value pairs\n",
    "    - It stores data in order format with keys \n",
    "    - It allows duplicate values for value but not for keys\n",
    "    - Slicing can be done for values but not for keys\n",
    "    - It can be typecasted as dict()\n",
    "    - It can changes the values and keys [Muteable]"
   ]
  },
  {
   "cell_type": "markdown",
   "id": "7a2859b0",
   "metadata": {},
   "source": [
    "## String:\n",
    "    - It can be enclosed with ' or \"\n",
    "    - It can stores all data type values\n",
    "    - It stores data in order format\n",
    "    - It allows duplicate values\n",
    "    - Slicing can be done because of index values\n",
    "    - It can be typecasted as str()\n",
    "    - It can changes the values [Muteable]"
   ]
  },
  {
   "cell_type": "markdown",
   "id": "e0e017cb",
   "metadata": {},
   "source": [
    "## List:"
   ]
  },
  {
   "cell_type": "code",
   "execution_count": 23,
   "id": "c1cd49d0",
   "metadata": {},
   "outputs": [
    {
     "name": "stdout",
     "output_type": "stream",
     "text": [
      "[1, 45.012, False, (45+8j), None, 'Prasad', 1, 1, 1] <class 'list'>\n"
     ]
    }
   ],
   "source": [
    "k = [1,45.012,False,45+8j,None,'Prasad',1,1,1,]\n",
    "print(k,type(k))"
   ]
  },
  {
   "cell_type": "code",
   "execution_count": 19,
   "id": "36545aa5",
   "metadata": {},
   "outputs": [
    {
     "name": "stdout",
     "output_type": "stream",
     "text": [
      "[45, 2, 5, 8, 9, 6] <class 'list'>\n"
     ]
    }
   ],
   "source": [
    "h = [45,2,5,8,9,6]\n",
    "print(h,type(h))"
   ]
  },
  {
   "cell_type": "code",
   "execution_count": 24,
   "id": "3ba0e1a4",
   "metadata": {},
   "outputs": [
    {
     "name": "stdout",
     "output_type": "stream",
     "text": [
      "0 <class 'int'> => 1 <class 'int'>\n",
      "1 <class 'int'> => 45.012 <class 'float'>\n",
      "2 <class 'int'> => False <class 'bool'>\n",
      "3 <class 'int'> => (45+8j) <class 'complex'>\n",
      "4 <class 'int'> => None <class 'NoneType'>\n",
      "5 <class 'int'> => Prasad <class 'str'>\n",
      "6 <class 'int'> => 1 <class 'int'>\n",
      "7 <class 'int'> => 1 <class 'int'>\n",
      "8 <class 'int'> => 1 <class 'int'>\n"
     ]
    }
   ],
   "source": [
    "for i in range(len(k)):\n",
    "    print(i,type(i),\"=>\",k[i],type(k[i]))"
   ]
  },
  {
   "cell_type": "code",
   "execution_count": 25,
   "id": "f615ee2e",
   "metadata": {},
   "outputs": [
    {
     "name": "stdout",
     "output_type": "stream",
     "text": [
      "1 <class 'int'>\n",
      "45.012 <class 'float'>\n",
      "False <class 'bool'>\n",
      "(45+8j) <class 'complex'>\n",
      "None <class 'NoneType'>\n",
      "Prasad <class 'str'>\n",
      "1 <class 'int'>\n",
      "1 <class 'int'>\n",
      "1 <class 'int'>\n"
     ]
    }
   ],
   "source": [
    "for i in k:\n",
    "    print(i,type(i))"
   ]
  },
  {
   "cell_type": "code",
   "execution_count": 48,
   "id": "6eb86a27",
   "metadata": {},
   "outputs": [
    {
     "name": "stdout",
     "output_type": "stream",
     "text": [
      "[1, 45.012, False, (45+8j), None, 'Prasad', 1, 1, 1]\n",
      "False\n",
      "Prasad\n",
      "[1, 45.012, False, (45+8j), None, 'Prasad', 1, 1, 1]\n",
      "[False, (45+8j), None, 'Prasad', 1, 1, 1]\n",
      "[1, 1, 1]\n",
      "[(45+8j), None, 'Prasad', 1]\n",
      "[False, (45+8j)]\n",
      "['Prasad', 1]\n",
      "[(45+8j), None]\n",
      "[None, 'Prasad']\n"
     ]
    }
   ],
   "source": [
    "print(k)\n",
    "print(k[2])\n",
    "print(k[-4])\n",
    "print(k[:])\n",
    "print(k[2:])\n",
    "print(k[-3:])\n",
    "print(k[3:7])\n",
    "print(k[2:-5])\n",
    "print(k[5:-2])\n",
    "print(k[-6:5])\n",
    "print(k[-5:-3])"
   ]
  },
  {
   "cell_type": "code",
   "execution_count": 56,
   "id": "04b56e15",
   "metadata": {},
   "outputs": [
    {
     "name": "stdout",
     "output_type": "stream",
     "text": [
      "[1, 45.012, False, (45+8j), None, 'Prasad', 1, 1, 1]\n",
      "[1, 45.012, False, (45+8j), None, 'Prasad', 1, 1, 1]\n",
      "[(45+8j), None, 'Prasad', 1, 1, 1]\n",
      "[None, 'Prasad', 1]\n",
      "[1, 45.012, False, (45+8j)]\n",
      "[1, 45.012, False, (45+8j), None, 'Prasad']\n",
      "[1, (45+8j), 1]\n",
      "[1, 1, None, False, 1]\n",
      "[(45+8j), 'Prasad']\n"
     ]
    }
   ],
   "source": [
    "print(k)\n",
    "print(k[::])\n",
    "print(k[3::])\n",
    "print(k[4:7:])\n",
    "print(k[:4:])\n",
    "print(k[:-3:])\n",
    "print(k[::3])\n",
    "print(k[::-2])\n",
    "print(k[3:6:2])"
   ]
  },
  {
   "cell_type": "code",
   "execution_count": 60,
   "id": "5074d49c",
   "metadata": {},
   "outputs": [
    {
     "name": "stdout",
     "output_type": "stream",
     "text": [
      "['__abs__', '__add__', '__and__', '__bool__', '__ceil__', '__class__', '__delattr__', '__dir__', '__divmod__', '__doc__', '__eq__', '__float__', '__floor__', '__floordiv__', '__format__', '__ge__', '__getattribute__', '__getnewargs__', '__gt__', '__hash__', '__index__', '__init__', '__init_subclass__', '__int__', '__invert__', '__le__', '__lshift__', '__lt__', '__mod__', '__mul__', '__ne__', '__neg__', '__new__', '__or__', '__pos__', '__pow__', '__radd__', '__rand__', '__rdivmod__', '__reduce__', '__reduce_ex__', '__repr__', '__rfloordiv__', '__rlshift__', '__rmod__', '__rmul__', '__ror__', '__round__', '__rpow__', '__rrshift__', '__rshift__', '__rsub__', '__rtruediv__', '__rxor__', '__setattr__', '__sizeof__', '__str__', '__sub__', '__subclasshook__', '__truediv__', '__trunc__', '__xor__', 'as_integer_ratio', 'bit_length', 'conjugate', 'denominator', 'from_bytes', 'imag', 'numerator', 'real', 'to_bytes']\n"
     ]
    }
   ],
   "source": [
    "# help(int)\n",
    "print(dir(int))"
   ]
  },
  {
   "cell_type": "code",
   "execution_count": 61,
   "id": "58c7fafa",
   "metadata": {},
   "outputs": [
    {
     "name": "stdout",
     "output_type": "stream",
     "text": [
      "['__add__', '__class__', '__class_getitem__', '__contains__', '__delattr__', '__delitem__', '__dir__', '__doc__', '__eq__', '__format__', '__ge__', '__getattribute__', '__getitem__', '__gt__', '__hash__', '__iadd__', '__imul__', '__init__', '__init_subclass__', '__iter__', '__le__', '__len__', '__lt__', '__mul__', '__ne__', '__new__', '__reduce__', '__reduce_ex__', '__repr__', '__reversed__', '__rmul__', '__setattr__', '__setitem__', '__sizeof__', '__str__', '__subclasshook__', 'append', 'clear', 'copy', 'count', 'extend', 'index', 'insert', 'pop', 'remove', 'reverse', 'sort']\n"
     ]
    }
   ],
   "source": [
    "print(dir(list))"
   ]
  },
  {
   "cell_type": "code",
   "execution_count": 62,
   "id": "768ef680",
   "metadata": {},
   "outputs": [
    {
     "name": "stdout",
     "output_type": "stream",
     "text": [
      "Built-in mutable sequence.\n",
      "\n",
      "If no argument is given, the constructor creates a new empty list.\n",
      "The argument must be an iterable if specified.\n"
     ]
    }
   ],
   "source": [
    "print(list.__doc__)"
   ]
  },
  {
   "cell_type": "code",
   "execution_count": 63,
   "id": "30d2d8c5",
   "metadata": {},
   "outputs": [
    {
     "name": "stdout",
     "output_type": "stream",
     "text": [
      "print(value, ..., sep=' ', end='\\n', file=sys.stdout, flush=False)\n",
      "\n",
      "Prints the values to a stream, or to sys.stdout by default.\n",
      "Optional keyword arguments:\n",
      "file:  a file-like object (stream); defaults to the current sys.stdout.\n",
      "sep:   string inserted between values, default a space.\n",
      "end:   string appended after the last value, default a newline.\n",
      "flush: whether to forcibly flush the stream.\n"
     ]
    }
   ],
   "source": [
    "print(print.__doc__)"
   ]
  },
  {
   "cell_type": "code",
   "execution_count": 64,
   "id": "7d8ea5e4",
   "metadata": {},
   "outputs": [
    {
     "name": "stdout",
     "output_type": "stream",
     "text": [
      "['__add__', '__class__', '__class_getitem__', '__contains__', '__delattr__', '__delitem__', '__dir__', '__doc__', '__eq__', '__format__', '__ge__', '__getattribute__', '__getitem__', '__gt__', '__hash__', '__iadd__', '__imul__', '__init__', '__init_subclass__', '__iter__', '__le__', '__len__', '__lt__', '__mul__', '__ne__', '__new__', '__reduce__', '__reduce_ex__', '__repr__', '__reversed__', '__rmul__', '__setattr__', '__setitem__', '__sizeof__', '__str__', '__subclasshook__', 'append', 'clear', 'copy', 'count', 'extend', 'index', 'insert', 'pop', 'remove', 'reverse', 'sort']\n"
     ]
    }
   ],
   "source": [
    "print(dir(list))"
   ]
  },
  {
   "cell_type": "code",
   "execution_count": 65,
   "id": "6916c293",
   "metadata": {},
   "outputs": [
    {
     "name": "stdout",
     "output_type": "stream",
     "text": [
      "[] <class 'list'>\n"
     ]
    }
   ],
   "source": [
    "j = []\n",
    "print(j,type(j))"
   ]
  },
  {
   "cell_type": "code",
   "execution_count": 66,
   "id": "054ddd68",
   "metadata": {},
   "outputs": [
    {
     "name": "stdout",
     "output_type": "stream",
     "text": [
      "[]\n",
      "[78]\n"
     ]
    }
   ],
   "source": [
    "print(j)\n",
    "j.append(78)\n",
    "print(j)"
   ]
  },
  {
   "cell_type": "code",
   "execution_count": 67,
   "id": "eba795c5",
   "metadata": {},
   "outputs": [
    {
     "name": "stdout",
     "output_type": "stream",
     "text": [
      "[78]\n"
     ]
    },
    {
     "ename": "TypeError",
     "evalue": "list.append() takes exactly one argument (3 given)",
     "output_type": "error",
     "traceback": [
      "\u001b[1;31m---------------------------------------------------------------------------\u001b[0m",
      "\u001b[1;31mTypeError\u001b[0m                                 Traceback (most recent call last)",
      "Cell \u001b[1;32mIn[67], line 2\u001b[0m\n\u001b[0;32m      1\u001b[0m \u001b[38;5;28mprint\u001b[39m(j)\n\u001b[1;32m----> 2\u001b[0m \u001b[43mj\u001b[49m\u001b[38;5;241;43m.\u001b[39;49m\u001b[43mappend\u001b[49m\u001b[43m(\u001b[49m\u001b[38;5;241;43m45\u001b[39;49m\u001b[43m,\u001b[49m\u001b[38;5;241;43m12\u001b[39;49m\u001b[43m,\u001b[49m\u001b[38;5;241;43m89\u001b[39;49m\u001b[43m)\u001b[49m\n\u001b[0;32m      3\u001b[0m \u001b[38;5;28mprint\u001b[39m(j)\n",
      "\u001b[1;31mTypeError\u001b[0m: list.append() takes exactly one argument (3 given)"
     ]
    }
   ],
   "source": [
    "print(j)\n",
    "j.append(45,12,89)\n",
    "print(j)"
   ]
  },
  {
   "cell_type": "code",
   "execution_count": 68,
   "id": "24b27abd",
   "metadata": {},
   "outputs": [
    {
     "name": "stdout",
     "output_type": "stream",
     "text": [
      "[78]\n",
      "[78, [45, 12, 89]]\n"
     ]
    }
   ],
   "source": [
    "print(j)\n",
    "j.append([45,12,89])\n",
    "print(j)"
   ]
  },
  {
   "cell_type": "code",
   "execution_count": 69,
   "id": "6d63b981",
   "metadata": {},
   "outputs": [
    {
     "name": "stdout",
     "output_type": "stream",
     "text": [
      "[78, [45, 12, 89]]\n",
      "[78, [45, 12, 89], ('Suresh', '85.01', 56)]\n"
     ]
    }
   ],
   "source": [
    "print(j)\n",
    "j.append(('Suresh','85.01',56))\n",
    "print(j)"
   ]
  },
  {
   "cell_type": "code",
   "execution_count": 70,
   "id": "de8bdfac",
   "metadata": {},
   "outputs": [
    {
     "name": "stdout",
     "output_type": "stream",
     "text": [
      "[78, [45, 12, 89], ('Suresh', '85.01', 56)]\n",
      "[78, [45, 12, 89], ('Suresh', '85.01', 56), {89, 12, 45}]\n"
     ]
    }
   ],
   "source": [
    "print(j)\n",
    "j.append({45,12,89})\n",
    "print(j)"
   ]
  },
  {
   "cell_type": "code",
   "execution_count": 71,
   "id": "960d0d35",
   "metadata": {},
   "outputs": [
    {
     "name": "stdout",
     "output_type": "stream",
     "text": [
      "[78, [45, 12, 89], ('Suresh', '85.01', 56), {89, 12, 45}]\n",
      "[78, [45, 12, 89], ('Suresh', '85.01', 56), {89, 12, 45}, '45,12,89']\n"
     ]
    }
   ],
   "source": [
    "print(j)\n",
    "j.append('45,12,89')\n",
    "print(j)"
   ]
  },
  {
   "cell_type": "code",
   "execution_count": null,
   "id": "9d971038",
   "metadata": {},
   "outputs": [],
   "source": []
  }
 ],
 "metadata": {
  "kernelspec": {
   "display_name": "Python 3 (ipykernel)",
   "language": "python",
   "name": "python3"
  },
  "language_info": {
   "codemirror_mode": {
    "name": "ipython",
    "version": 3
   },
   "file_extension": ".py",
   "mimetype": "text/x-python",
   "name": "python",
   "nbconvert_exporter": "python",
   "pygments_lexer": "ipython3",
   "version": "3.9.13"
  }
 },
 "nbformat": 4,
 "nbformat_minor": 5
}
