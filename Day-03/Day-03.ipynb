{
 "cells": [
  {
   "cell_type": "markdown",
   "id": "634dccbc",
   "metadata": {},
   "source": [
    "## Conditional Statements:\n",
    "    - To check whether a given condition is either True or False\n",
    "    - if => single case\n",
    "    - if-else => two cases\n",
    "    - nested if => 2 or more n numbre of cases\n",
    "    - elif => 2 or more n number of cases"
   ]
  },
  {
   "cell_type": "markdown",
   "id": "674ceac8",
   "metadata": {},
   "source": [
    "# if\n",
    "    Syntax:\n",
    "        if condition:\n",
    "            //stmts\n",
    "        () => optional"
   ]
  },
  {
   "cell_type": "code",
   "execution_count": 2,
   "id": "e76f7137",
   "metadata": {},
   "outputs": [
    {
     "name": "stdout",
     "output_type": "stream",
     "text": [
      "100\n",
      "100 is equal to 100\n"
     ]
    }
   ],
   "source": [
    "n = int(input())\n",
    "if n == 100:\n",
    "    print(\"{} is equal to 100\".format(n))"
   ]
  },
  {
   "cell_type": "code",
   "execution_count": 4,
   "id": "f751595c",
   "metadata": {},
   "outputs": [
    {
     "name": "stdout",
     "output_type": "stream",
     "text": [
      "5\n",
      "5\n",
      "5 is equal to 5\n"
     ]
    }
   ],
   "source": [
    "n,m = int(input()),int(input())\n",
    "if n == m:\n",
    "    print(\"{} is equal to {}\".format(n,m))"
   ]
  },
  {
   "cell_type": "code",
   "execution_count": 7,
   "id": "dab6523f",
   "metadata": {},
   "outputs": [
    {
     "name": "stdout",
     "output_type": "stream",
     "text": [
      "45\n"
     ]
    }
   ],
   "source": [
    "n = int(input())\n",
    "if n%2==0:\n",
    "    print(\"{} is Even\".format(n))"
   ]
  },
  {
   "cell_type": "markdown",
   "id": "ae25e431",
   "metadata": {},
   "source": [
    "## if-else:\n",
    "    Sytnax:\n",
    "        if condition:\n",
    "            //stmnt\n",
    "        else:\n",
    "            //stmnt\n",
    "        () => optional"
   ]
  },
  {
   "cell_type": "markdown",
   "id": "8367b335",
   "metadata": {},
   "source": [
    "```\n",
    "Input:\n",
    "    9\n",
    "    2\n",
    "Output:\n",
    "    4x^2\n",
    "\n",
    "Input:\n",
    "    4\n",
    "    3\n",
    "Output:\n",
    "    5x^3\n",
    "```"
   ]
  },
  {
   "cell_type": "code",
   "execution_count": 15,
   "id": "5852a4f6",
   "metadata": {},
   "outputs": [
    {
     "name": "stdout",
     "output_type": "stream",
     "text": [
      "4\n",
      "2\n",
      "1000\n"
     ]
    }
   ],
   "source": [
    "n=int(input())\n",
    "m=int(input())\n",
    "if n%3==0:\n",
    "    print((4*m)**2)\n",
    "else:\n",
    "    print((5*m)**3)"
   ]
  },
  {
   "cell_type": "markdown",
   "id": "8c5eac7c",
   "metadata": {},
   "source": [
    "## Nested if:\n",
    "    Syntax:\n",
    "        if condition-1:\n",
    "            if condition-2:\n",
    "                //smtnt-1\n",
    "            else:\n",
    "                //stmnt-2\n",
    "        else:\n",
    "            //smtnt-3"
   ]
  },
  {
   "cell_type": "code",
   "execution_count": 21,
   "id": "67708a9e",
   "metadata": {},
   "outputs": [
    {
     "name": "stdout",
     "output_type": "stream",
     "text": [
      "Enter marks: 105\n",
      "Dont exceed more than 100\n"
     ]
    }
   ],
   "source": [
    "m = int(input(\"Enter marks: \"))\n",
    "if m>=35 and m<=100:\n",
    "    if m<=100 and m>=90:\n",
    "        print(\"{} marks you are passed in A Grade\".format(m))\n",
    "    else:\n",
    "        print(\"{} marks you are passed\".format(m))\n",
    "else:\n",
    "    if m>=100:\n",
    "        print(\"Dont exceed more than 100\")\n",
    "    else:\n",
    "        print(\"{} marks you are Failed\".format(m))"
   ]
  },
  {
   "cell_type": "code",
   "execution_count": 27,
   "id": "3139c86e",
   "metadata": {},
   "outputs": [
    {
     "name": "stdout",
     "output_type": "stream",
     "text": [
      "Enter username:Rahul\n",
      "Enter Password:12345\n",
      "Welcome user Rahul\n"
     ]
    }
   ],
   "source": [
    "t=\"Rahul\"\n",
    "e=\"12345\"\n",
    "n= input(\"Enter username:\")\n",
    "m= input(\"Enter Password:\")\n",
    "if n==t and m==e:\n",
    "    print(\"Welcome user {}\".format(n))\n",
    "else:\n",
    "    print(\"Invalid username / password!!\") "
   ]
  },
  {
   "cell_type": "code",
   "execution_count": 32,
   "id": "17e77172",
   "metadata": {},
   "outputs": [
    {
     "name": "stdout",
     "output_type": "stream",
     "text": [
      "Usernamesample@gmail.com\n",
      "enter your pin1234\n",
      "welcome user sample@gmail.com\n"
     ]
    }
   ],
   "source": [
    "m,p=\"sample@gmail.com\",1234\n",
    "mail=input(\"Username\")\n",
    "if mail==m:\n",
    "    pd=int(input(\"enter your pin\"))\n",
    "    if pd==p:\n",
    "        print(\"welcome user {}\".format(m))\n",
    "    else:\n",
    "        print(\"invaid password\")\n",
    "else:\n",
    "    print(\"invalid mailid {}\".format(mail))"
   ]
  },
  {
   "cell_type": "markdown",
   "id": "fc97d8d1",
   "metadata": {},
   "source": [
    "## elif:\n",
    "    Syntax:\n",
    "        if condition:\n",
    "            //stmnt-1\n",
    "        elif condition-2:\n",
    "            //stmnt-2\n",
    "            |       |\n",
    "        else:\n",
    "            //stmnt-(n-2)"
   ]
  },
  {
   "cell_type": "code",
   "execution_count": 38,
   "id": "6185b7b5",
   "metadata": {},
   "outputs": [
    {
     "name": "stdout",
     "output_type": "stream",
     "text": [
      "Enter a number: 5\n",
      "5 is divisible by 5\n"
     ]
    }
   ],
   "source": [
    "k = int(input(\"Enter a number: \"))\n",
    "if k%5==0:\n",
    "    print(\"{} is divisible by 5\".format(k))\n",
    "elif k%2==0 and k<=10:\n",
    "    print(\"Values are even and it is less than 10\")\n",
    "elif k<=10:\n",
    "    print(\"Values are Less than 10\")\n",
    "elif k%2==0 and (k<=30 and k>=20):\n",
    "    print(\"value is even and it is in middle of 20 and 30\")\n",
    "else:\n",
    "    print(\"Values are greater than 10\")"
   ]
  },
  {
   "cell_type": "markdown",
   "id": "2727baae",
   "metadata": {},
   "source": [
    "## Loops or Iterations or Repitions:\n",
    "    - To repeat a statement for n number of times untill condition is True or False\n",
    "    - for => known ranges\n",
    "    - while => known and unknown ranges"
   ]
  },
  {
   "cell_type": "markdown",
   "id": "cf7cd370",
   "metadata": {},
   "source": [
    "## for:\n",
    "    Syntax:\n",
    "        for iterationvariablename in iterator:\n",
    "            //stmnts\n",
    "                    or\n",
    "        for iterationvariablename in range(start,stop,step):\n",
    "            //stmnts"
   ]
  },
  {
   "cell_type": "markdown",
   "id": "57208711",
   "metadata": {},
   "source": [
    "## range function:\n",
    "    - range(stop)\n",
    "        - It starts from exactly with 0\n",
    "        - It ends with stop-1 value\n",
    "        - By default it increments with +1\n",
    "        Ex:\n",
    "           range(5)\n",
    "           0 1 2 3 4\n",
    "    - range(start,stop):\n",
    "        - It starts from exactly with start value\n",
    "        - It ends with stop-1 value\n",
    "        - By default it increments with +1\n",
    "        Ex:\n",
    "            range(25,30)\n",
    "            25 26 27 28 29\n",
    "    - range(start,stop,step)\n",
    "        - It starts with exactly with start value\n",
    "        - It ends with stop-1 value\n",
    "        - It increment/decrement with step value\n",
    "        Ex:\n",
    "            range(10,20,3)\n",
    "            10 13 16 19"
   ]
  },
  {
   "cell_type": "code",
   "execution_count": 49,
   "id": "6abe3199",
   "metadata": {},
   "outputs": [
    {
     "name": "stdout",
     "output_type": "stream",
     "text": [
      "Enter a range: 5\n",
      "0 1 2 3 4 "
     ]
    }
   ],
   "source": [
    "n = int(input(\"Enter a range: \"))\n",
    "for i in range(n):\n",
    "    print(i,end=\" \")"
   ]
  },
  {
   "cell_type": "code",
   "execution_count": 53,
   "id": "de3091e0",
   "metadata": {},
   "outputs": [
    {
     "name": "stdout",
     "output_type": "stream",
     "text": [
      "Enter a range: 5\n",
      "4 3 2 1 0 "
     ]
    }
   ],
   "source": [
    "n = int(input(\"Enter a range: \"))\n",
    "for i in range(n):\n",
    "    print(n-i-1,end=\" \")"
   ]
  },
  {
   "cell_type": "code",
   "execution_count": 57,
   "id": "ee721a5a",
   "metadata": {},
   "outputs": [
    {
     "name": "stdout",
     "output_type": "stream",
     "text": [
      "Enter a range:200\n",
      "Enter a number: 13\n",
      "0 13 26 39 52 65 78 91 104 117 130 143 156 169 182 195 "
     ]
    }
   ],
   "source": [
    "n,m = int(input(\"Enter a range:\")),int(\n",
    "    input(\"Enter a number: \"))\n",
    "for i in range(n):\n",
    "    if i%m==0:\n",
    "        print(i,end=\" \")"
   ]
  },
  {
   "cell_type": "code",
   "execution_count": 59,
   "id": "dd64fc0b",
   "metadata": {},
   "outputs": [
    {
     "name": "stdout",
     "output_type": "stream",
     "text": [
      "Enter a range: 10\n",
      "Even 1 Even 3 Even 5 Even 7 Even 9 "
     ]
    }
   ],
   "source": [
    "n = int(input(\"Enter a range: \"))\n",
    "for i in range(n):\n",
    "    if i%2==0:\n",
    "        print(\"Even\",end=\" \")\n",
    "    else:\n",
    "        print(i,end=\" \")"
   ]
  },
  {
   "cell_type": "code",
   "execution_count": 61,
   "id": "2a384ada",
   "metadata": {},
   "outputs": [
    {
     "name": "stdout",
     "output_type": "stream",
     "text": [
      "Enter a range: 2\n",
      "5 1 "
     ]
    }
   ],
   "source": [
    "n = int(input(\"Enter a range: \"))\n",
    "for i in range(n):\n",
    "    if i%5==0:\n",
    "        print(i+5,end=\" \")\n",
    "    elif i%2==0:\n",
    "        print(i*2,end=\" \")\n",
    "    elif i%4==0 and i%3==0:\n",
    "        print(i+1,end=\" \")\n",
    "    else:\n",
    "        print(i,end=\" \")"
   ]
  },
  {
   "cell_type": "code",
   "execution_count": 62,
   "id": "01752b59",
   "metadata": {},
   "outputs": [
    {
     "name": "stdout",
     "output_type": "stream",
     "text": [
      "10\n",
      "30\n",
      "10 11 12 13 14 15 16 17 18 19 20 21 22 23 24 25 26 27 28 29 "
     ]
    }
   ],
   "source": [
    "n,m = int(input()),int(input())\n",
    "for i in range(n,m):\n",
    "    print(i,end=\" \")"
   ]
  },
  {
   "cell_type": "code",
   "execution_count": 64,
   "id": "6b62b293",
   "metadata": {},
   "outputs": [
    {
     "name": "stdout",
     "output_type": "stream",
     "text": [
      "10\n",
      "30\n",
      "29 28 27 26 25 24 23 22 21 20 19 18 17 16 15 14 13 12 11 10 "
     ]
    }
   ],
   "source": [
    "n,m = int(input()),int(input())\n",
    "for i in range(n,m):\n",
    "    print(m+n-i-1,end=\" \")"
   ]
  },
  {
   "cell_type": "code",
   "execution_count": null,
   "id": "61e878f1",
   "metadata": {},
   "outputs": [],
   "source": []
  }
 ],
 "metadata": {
  "kernelspec": {
   "display_name": "Python 3 (ipykernel)",
   "language": "python",
   "name": "python3"
  },
  "language_info": {
   "codemirror_mode": {
    "name": "ipython",
    "version": 3
   },
   "file_extension": ".py",
   "mimetype": "text/x-python",
   "name": "python",
   "nbconvert_exporter": "python",
   "pygments_lexer": "ipython3",
   "version": "3.9.13"
  }
 },
 "nbformat": 4,
 "nbformat_minor": 5
}
