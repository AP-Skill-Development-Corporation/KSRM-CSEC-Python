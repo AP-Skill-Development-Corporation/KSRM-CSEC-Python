{
 "cells": [
  {
   "cell_type": "code",
   "execution_count": 11,
   "id": "494350fc",
   "metadata": {},
   "outputs": [
    {
     "name": "stdout",
     "output_type": "stream",
     "text": [
      "20\n",
      "10\n",
      "-2\n",
      "20 18 16 14 12 "
     ]
    }
   ],
   "source": [
    "n,m,s = int(input()),int(input()),int(input())\n",
    "for i in range(n,m,s):\n",
    "    print(i,end=\" \")"
   ]
  },
  {
   "cell_type": "markdown",
   "id": "5ed9c175",
   "metadata": {},
   "source": [
    "## While:\n",
    "    Syntax:\n",
    "        initialization\n",
    "        while condition:\n",
    "            //stmnts\n",
    "            incr/decr"
   ]
  },
  {
   "cell_type": "code",
   "execution_count": 2,
   "id": "3d1aac0f",
   "metadata": {},
   "outputs": [
    {
     "name": "stdout",
     "output_type": "stream",
     "text": [
      "Enter a range: 10\n",
      "9 8 7 6 5 4 3 2 1 0 "
     ]
    }
   ],
   "source": [
    "n = int(input(\"Enter a range: \"))\n",
    "while n!=0:\n",
    "    n-=1\n",
    "    print(n,end=\" \")"
   ]
  },
  {
   "cell_type": "code",
   "execution_count": 7,
   "id": "43da0154",
   "metadata": {},
   "outputs": [
    {
     "name": "stdout",
     "output_type": "stream",
     "text": [
      "Enter a range: 10\n",
      "0 1 2 3 4 5 6 7 8 9 "
     ]
    }
   ],
   "source": [
    "n,i = int(input(\"Enter a range: \")),0\n",
    "while i<n:\n",
    "    print(i,end=\" \")\n",
    "    i+=1"
   ]
  },
  {
   "cell_type": "code",
   "execution_count": 8,
   "id": "f19c98b5",
   "metadata": {},
   "outputs": [
    {
     "name": "stdout",
     "output_type": "stream",
     "text": [
      "10\n",
      "20\n",
      "10 11 12 13 14 15 16 17 18 19 "
     ]
    }
   ],
   "source": [
    "n,m = int(input()),int(input())\n",
    "while n<m:\n",
    "    print(n,end=\" \")\n",
    "    n+=1"
   ]
  },
  {
   "cell_type": "code",
   "execution_count": 11,
   "id": "05574c2d",
   "metadata": {},
   "outputs": [
    {
     "name": "stdout",
     "output_type": "stream",
     "text": [
      "10\n",
      "20\n",
      "19 18 17 16 15 14 13 12 11 10 "
     ]
    }
   ],
   "source": [
    "n,m = int(input()),int(input())\n",
    "while n!=m:\n",
    "    m-=1\n",
    "    print(m,end=\" \")"
   ]
  },
  {
   "cell_type": "code",
   "execution_count": 12,
   "id": "444fe144",
   "metadata": {},
   "outputs": [
    {
     "name": "stdout",
     "output_type": "stream",
     "text": [
      "10\n",
      "20\n",
      "* 11 * 13 * 15 * 17 * 19 "
     ]
    }
   ],
   "source": [
    "n,m = int(input()),int(input())\n",
    "while n!=m:\n",
    "    if n%2==0:\n",
    "        print(\"*\",end=\" \")\n",
    "    else:\n",
    "        print(n,end=\" \")\n",
    "    n+=1"
   ]
  },
  {
   "attachments": {},
   "cell_type": "markdown",
   "id": "2bff2257",
   "metadata": {},
   "source": [
    "## Jumping Statements:\n",
    "    - break => it terminates from loop\n",
    "    - continue => it skips a value from a loop\n",
    "    - pass => works exactly as continue and for future enhancements we can use pass\n",
    "    - return => it can be used in functions"
   ]
  },
  {
   "cell_type": "code",
   "execution_count": 15,
   "id": "5e7184cc",
   "metadata": {},
   "outputs": [
    {
     "name": "stdout",
     "output_type": "stream",
     "text": [
      "30\n",
      "25\n",
      "0 1 2 3 4 5 6 7 8 9 10 11 12 13 14 15 16 17 18 19 20 21 22 23 24 26 27 28 29 "
     ]
    }
   ],
   "source": [
    "n,k = int(input()),int(input())\n",
    "for i in range(n):\n",
    "    if i==k:\n",
    "        continue\n",
    "    print(i,end=\" \")"
   ]
  },
  {
   "cell_type": "code",
   "execution_count": 17,
   "id": "a87acaa7",
   "metadata": {},
   "outputs": [
    {
     "name": "stdout",
     "output_type": "stream",
     "text": [
      "100\n",
      "10\n",
      "0 1 2 3 4 5 6 7 8 9 "
     ]
    }
   ],
   "source": [
    "n,k = int(input()),int(input())\n",
    "for i in range(n):\n",
    "    if i==k:\n",
    "        break\n",
    "    print(i,end=\" \")"
   ]
  },
  {
   "cell_type": "code",
   "execution_count": 20,
   "id": "88cab53e",
   "metadata": {},
   "outputs": [
    {
     "name": "stdout",
     "output_type": "stream",
     "text": [
      "10\n",
      "5\n",
      "6 7 8 9 "
     ]
    }
   ],
   "source": [
    "n,k = int(input()),int(input())\n",
    "for i in range(n):\n",
    "    if i<=k:\n",
    "        pass\n",
    "    else:\n",
    "        print(i,end=\" \")"
   ]
  },
  {
   "cell_type": "code",
   "execution_count": 2,
   "id": "90b32070",
   "metadata": {},
   "outputs": [
    {
     "name": "stdout",
     "output_type": "stream",
     "text": [
      "1.Table\n",
      "2.Reverse\n",
      "3.Digit count\n",
      "4.Exit\n",
      "Enter your option: 4\n",
      "Thanks for Selecting anoption\n"
     ]
    }
   ],
   "source": [
    "while True:\n",
    "    print(\"1.Table\\n2.Reverse\\n\"\n",
    "    \"3.Digit count\\n4.Exit\")\n",
    "    k = int(input(\"Enter your option: \"))\n",
    "    if k==4:\n",
    "        print(\"Thanks for Selecting an \"\n",
    "              \"option\")\n",
    "        break\n",
    "    elif k==2:\n",
    "        m = int(input(\"Enter a number: \"))\n",
    "        r = 0\n",
    "        while m!=0:\n",
    "            r = r*10+m%10\n",
    "            m //=10\n",
    "        print(r)\n",
    "    elif k==3:\n",
    "        z = int(input(\"Enter a number: \"))\n",
    "        c = 0\n",
    "        while z!=0:\n",
    "            c+=1\n",
    "            z//=10\n",
    "        print(c)\n",
    "    elif k==1:\n",
    "        t = int(input())\n",
    "        a = int(input())\n",
    "        for i in range(a):\n",
    "            print(\"{} x {} = {}\".format(t,i+1,t*(i+1)))\n",
    "    else:\n",
    "        print(\"Try again with valid option\\n\")"
   ]
  },
  {
   "cell_type": "markdown",
   "id": "f18cc5c9",
   "metadata": {},
   "source": [
    "## Inner Loops or Nested Loops:\n",
    "    - Loop within a loop\n",
    "    - Outer loop => row \n",
    "    - Inner loop => column"
   ]
  },
  {
   "cell_type": "code",
   "execution_count": 7,
   "id": "75bbcca4",
   "metadata": {},
   "outputs": [
    {
     "name": "stdout",
     "output_type": "stream",
     "text": [
      "Enter size: 3\n",
      "* * * \n",
      "* * * \n",
      "* * * \n"
     ]
    }
   ],
   "source": [
    "n = int(input(\"Enter size: \"))\n",
    "for i in range(n):\n",
    "    for j in range(n):\n",
    "        print(\"*\",end=\" \")\n",
    "    print()"
   ]
  },
  {
   "cell_type": "code",
   "execution_count": 9,
   "id": "43ed36e7",
   "metadata": {},
   "outputs": [
    {
     "name": "stdout",
     "output_type": "stream",
     "text": [
      "Enter size: 5\n",
      "0 1 2 3 4 \n",
      "0 1 2 3 4 \n",
      "0 1 2 3 4 \n",
      "0 1 2 3 4 \n",
      "0 1 2 3 4 \n"
     ]
    }
   ],
   "source": [
    "n = int(input(\"Enter size: \"))\n",
    "for i in range(n):\n",
    "    for j in range(n):\n",
    "        print(j,end=\" \")\n",
    "    print()"
   ]
  },
  {
   "cell_type": "code",
   "execution_count": 14,
   "id": "bf6c1c27",
   "metadata": {},
   "outputs": [
    {
     "name": "stdout",
     "output_type": "stream",
     "text": [
      "Enter size: 5\n",
      "* * * * * \n",
      "* # # # * \n",
      "* # # # * \n",
      "* # # # * \n",
      "* * * * * \n"
     ]
    }
   ],
   "source": [
    "n = int(input(\"Enter size: \"))\n",
    "for i in range(n):\n",
    "    for j in range(n):\n",
    "        if i==0 or j==0 or i==n-1 or j==n-1:\n",
    "            print(\"*\",end=\" \")\n",
    "        else:\n",
    "            print(\"#\",end=\" \")\n",
    "    print()"
   ]
  },
  {
   "cell_type": "code",
   "execution_count": 16,
   "id": "3ea0fc80",
   "metadata": {},
   "outputs": [
    {
     "name": "stdout",
     "output_type": "stream",
     "text": [
      "5\n",
      "0 \n",
      "1 1 \n",
      "2 2 2 \n",
      "3 3 3 3 \n",
      "4 4 4 4 4 \n"
     ]
    }
   ],
   "source": [
    "n = int(input())\n",
    "for i in range(n):\n",
    "    for j in range(i+1):\n",
    "        print(i,end=\" \")\n",
    "    print()"
   ]
  },
  {
   "cell_type": "code",
   "execution_count": 29,
   "id": "3f0b8475",
   "metadata": {},
   "outputs": [
    {
     "name": "stdout",
     "output_type": "stream",
     "text": [
      "[] && [] ## [] ## [] \n",
      "## && ## () ## () ## \n",
      "|| || || || || || || \n",
      "## && ** () ## ** ## \n",
      "() && () \n"
     ]
    }
   ],
   "source": [
    "c = 1\n",
    "for i in range(5):\n",
    "    for j in range(7):\n",
    "        if c==32:\n",
    "            break\n",
    "        else:\n",
    "            if i==2:\n",
    "                print(\"||\",end=\" \")\n",
    "            elif j==1:\n",
    "                print(\"&&\",end=\" \")\n",
    "            elif c%3==0 and c>15:\n",
    "                print(\"**\",end=\" \")\n",
    "            elif c%2==0:\n",
    "                print(\"##\",end=\" \")\n",
    "            elif c<10:\n",
    "                print(\"[]\",end=\" \")\n",
    "            else:\n",
    "                print(\"()\",end=\" \")\n",
    "        c+=1\n",
    "    print()"
   ]
  },
  {
   "attachments": {},
   "cell_type": "markdown",
   "id": "fe53e615",
   "metadata": {},
   "source": [
    "## Functions:\n",
    "    - To perform a specific task\n",
    "    - reuseability of code\n",
    "    - complex problem into small modules to solve a problem statement\n",
    "        - builtin and \n",
    "        - userdefined\n",
    "    Syntax:\n",
    "        def functionname(arguments):\n",
    "            //smnts\n",
    "            return return_value"
   ]
  },
  {
   "cell_type": "markdown",
   "id": "88c623ad",
   "metadata": {},
   "source": [
    "## User Defined Functions:\n",
    "    - With returntype and with arguments\n",
    "    - With returntype and without arguments\n",
    "    - Without returntype and with arguments\n",
    "    - Without returntype and without arguments"
   ]
  },
  {
   "cell_type": "code",
   "execution_count": 31,
   "id": "cd977d4e",
   "metadata": {},
   "outputs": [
    {
     "name": "stdout",
     "output_type": "stream",
     "text": [
      "Enter a number: 193022\n",
      "Given number is: 193022\n",
      "Even number sum in 193022 is: 4\n"
     ]
    }
   ],
   "source": [
    "# with returntype and with arguments\n",
    "# Reading: Main\n",
    "# Printing: Main\n",
    "# Logic: Function\n",
    "def nmev(h):\n",
    "    print(\"Given number is: {}\".format(h))\n",
    "    es = 0\n",
    "    while h!=0:\n",
    "        w = h%10\n",
    "        if w%2==0:\n",
    "            es+=w\n",
    "        h//=10\n",
    "    return es\n",
    "\n",
    "n = int(input(\"Enter a number: \"))\n",
    "print(\"Even number sum in {} is: {}\".format(n,nmev(n)))"
   ]
  },
  {
   "cell_type": "code",
   "execution_count": 32,
   "id": "64f8c44a",
   "metadata": {},
   "outputs": [
    {
     "name": "stdout",
     "output_type": "stream",
     "text": [
      "Enter a number: 719063\n",
      "3 muliples in 719063 and its sum is:  18\n"
     ]
    }
   ],
   "source": [
    "# with returntype and without arguments\n",
    "# Reading: Function\n",
    "# Printing: Main\n",
    "# Logic: Function\n",
    "def mtsm():\n",
    "    n = int(input(\"Enter a number: \"))\n",
    "    tsm = 0\n",
    "    print(\"3 muliples in {} and its sum is: \".format(n),end=\" \")\n",
    "    while n!=0:\n",
    "        k=n%10\n",
    "        if k%3==0:\n",
    "            tsm += k\n",
    "        n//=10\n",
    "    return tsm\n",
    "\n",
    "print(\"{}\".format(mtsm()))"
   ]
  },
  {
   "cell_type": "code",
   "execution_count": 36,
   "id": "cd3f7672",
   "metadata": {},
   "outputs": [
    {
     "name": "stdout",
     "output_type": "stream",
     "text": [
      "Enter a number: 45678\n",
      "Given number is: 45678\n",
      "Even number in 45678 reverse is:  864\n"
     ]
    }
   ],
   "source": [
    "# without returntype and with arguments\n",
    "# Reading: Main\n",
    "# Printing: Function\n",
    "# Logic: Function\n",
    "def evrv(p):\n",
    "    em = 0\n",
    "    print(\"Given number is: {}\".format(p))\n",
    "    print(\"Even number in {} reverse is: \".format(p),end=\" \")\n",
    "    while p!=0:\n",
    "        z = p%10\n",
    "        if z%2==0:\n",
    "            em = em*10+z\n",
    "        p//=10\n",
    "    print(\"{}\".format(em))\n",
    "    return\n",
    "\n",
    "n = int(input(\"Enter a number: \"))\n",
    "evrv(n)"
   ]
  },
  {
   "cell_type": "code",
   "execution_count": 37,
   "id": "6aa567ee",
   "metadata": {},
   "outputs": [
    {
     "name": "stdout",
     "output_type": "stream",
     "text": [
      "Enter a number: 5\n",
      "Factorial of 5 is: 120\n"
     ]
    }
   ],
   "source": [
    "# without returntype and without arguments\n",
    "# Reading: Function\n",
    "# Printing: Function\n",
    "# Logic: Function\n",
    "def fc():\n",
    "    k = int(input(\"Enter a number: \"))\n",
    "    g = 1\n",
    "    for i in range(1,k+1):\n",
    "        g*=i\n",
    "    print(\"Factorial of {} is: {}\".format(k,g))\n",
    "    return\n",
    "\n",
    "fc()"
   ]
  },
  {
   "cell_type": "markdown",
   "id": "39d24c31",
   "metadata": {},
   "source": [
    "## Argument Types:\n",
    "    - Required Argument\n",
    "    - Default Argument\n",
    "    - Keyword Argument\n",
    "    - Variable-Length Argument[Arbitary]\n",
    "        - Arbitary Positional\n",
    "        - Arbitary Keyword"
   ]
  },
  {
   "cell_type": "markdown",
   "id": "ae862ab1",
   "metadata": {},
   "source": [
    "## Required Argument:"
   ]
  },
  {
   "cell_type": "code",
   "execution_count": 39,
   "id": "aecf9092",
   "metadata": {},
   "outputs": [
    {
     "name": "stdout",
     "output_type": "stream",
     "text": [
      "Enter your roll number: 5g2\n",
      "Enter your name: saniya\n",
      "Entered Student Roll Number is: 5g2\n",
      "Entered Student Name is: saniya\n"
     ]
    }
   ],
   "source": [
    "def stdt(rl,nme):\n",
    "    print(\"Entered Student Roll Number is: {}\".format(rl))\n",
    "    print(\"Entered Student Name is: {}\".format(nme))\n",
    "    return\n",
    "\n",
    "d = input(\"Enter your roll number: \")\n",
    "sn = input(\"Enter your name: \")\n",
    "stdt(d,sn)"
   ]
  },
  {
   "cell_type": "code",
   "execution_count": 41,
   "id": "63bd860d",
   "metadata": {},
   "outputs": [
    {
     "name": "stdout",
     "output_type": "stream",
     "text": [
      "Enter your roll number: g2\n",
      "Enter your name: saniya\n"
     ]
    },
    {
     "ename": "TypeError",
     "evalue": "stdt() missing 1 required positional argument: 'ty'",
     "output_type": "error",
     "traceback": [
      "\u001b[1;31m---------------------------------------------------------------------------\u001b[0m",
      "\u001b[1;31mTypeError\u001b[0m                                 Traceback (most recent call last)",
      "Cell \u001b[1;32mIn[41], line 8\u001b[0m\n\u001b[0;32m      6\u001b[0m d \u001b[38;5;241m=\u001b[39m \u001b[38;5;28minput\u001b[39m(\u001b[38;5;124m\"\u001b[39m\u001b[38;5;124mEnter your roll number: \u001b[39m\u001b[38;5;124m\"\u001b[39m)\n\u001b[0;32m      7\u001b[0m sn \u001b[38;5;241m=\u001b[39m \u001b[38;5;28minput\u001b[39m(\u001b[38;5;124m\"\u001b[39m\u001b[38;5;124mEnter your name: \u001b[39m\u001b[38;5;124m\"\u001b[39m)\n\u001b[1;32m----> 8\u001b[0m \u001b[43mstdt\u001b[49m\u001b[43m(\u001b[49m\u001b[43md\u001b[49m\u001b[43m,\u001b[49m\u001b[43msn\u001b[49m\u001b[43m)\u001b[49m\n",
      "\u001b[1;31mTypeError\u001b[0m: stdt() missing 1 required positional argument: 'ty'"
     ]
    }
   ],
   "source": [
    "def stdt(rl,nme,ty):\n",
    "    print(\"Entered Student Roll Number is: {}\".format(rl))\n",
    "    print(\"Entered Student Name is: {}\".format(nme))\n",
    "    return\n",
    "\n",
    "d = input(\"Enter your roll number: \")\n",
    "sn = input(\"Enter your name: \")\n",
    "stdt(d,sn)"
   ]
  },
  {
   "cell_type": "code",
   "execution_count": 42,
   "id": "8c1d9235",
   "metadata": {},
   "outputs": [
    {
     "name": "stdout",
     "output_type": "stream",
     "text": [
      "Enter your roll number: 5g2\n",
      "Enter your name: saniya\n"
     ]
    },
    {
     "ename": "TypeError",
     "evalue": "stdt() takes 1 positional argument but 2 were given",
     "output_type": "error",
     "traceback": [
      "\u001b[1;31m---------------------------------------------------------------------------\u001b[0m",
      "\u001b[1;31mTypeError\u001b[0m                                 Traceback (most recent call last)",
      "Cell \u001b[1;32mIn[42], line 7\u001b[0m\n\u001b[0;32m      5\u001b[0m d \u001b[38;5;241m=\u001b[39m \u001b[38;5;28minput\u001b[39m(\u001b[38;5;124m\"\u001b[39m\u001b[38;5;124mEnter your roll number: \u001b[39m\u001b[38;5;124m\"\u001b[39m)\n\u001b[0;32m      6\u001b[0m sn \u001b[38;5;241m=\u001b[39m \u001b[38;5;28minput\u001b[39m(\u001b[38;5;124m\"\u001b[39m\u001b[38;5;124mEnter your name: \u001b[39m\u001b[38;5;124m\"\u001b[39m)\n\u001b[1;32m----> 7\u001b[0m \u001b[43mstdt\u001b[49m\u001b[43m(\u001b[49m\u001b[43md\u001b[49m\u001b[43m,\u001b[49m\u001b[43msn\u001b[49m\u001b[43m)\u001b[49m\n",
      "\u001b[1;31mTypeError\u001b[0m: stdt() takes 1 positional argument but 2 were given"
     ]
    }
   ],
   "source": [
    "def stdt(rl):\n",
    "    print(\"Entered Student Roll Number is: {}\".format(rl))\n",
    "    return\n",
    "\n",
    "d = input(\"Enter your roll number: \")\n",
    "sn = input(\"Enter your name: \")\n",
    "stdt(d,sn)"
   ]
  },
  {
   "cell_type": "markdown",
   "id": "49d848b5",
   "metadata": {},
   "source": [
    "## Default Argument:"
   ]
  },
  {
   "cell_type": "code",
   "execution_count": 44,
   "id": "eeffc523",
   "metadata": {},
   "outputs": [
    {
     "name": "stdout",
     "output_type": "stream",
     "text": [
      "Enter Employee Id: 102\n",
      "Enter Employee Name: Prasad\n",
      "Employee id: 102\n",
      "Employee Name: Prasad\n",
      "Employee Age: 20\n"
     ]
    }
   ],
   "source": [
    "def em(d,nm,a=20):\n",
    "    print(\"Employee id: {}\".format(d))\n",
    "    print(\"Employee Name: {}\".format(nm))\n",
    "    print(\"Employee Age: {}\".format(a))\n",
    "    return\n",
    "\n",
    "ed = int(input(\"Enter Employee Id: \"))\n",
    "ename = input(\"Enter Employee Name: \")\n",
    "em(ed,ename)"
   ]
  },
  {
   "cell_type": "code",
   "execution_count": 45,
   "id": "0204d6cb",
   "metadata": {},
   "outputs": [
    {
     "ename": "SyntaxError",
     "evalue": "non-default argument follows default argument (4206686829.py, line 1)",
     "output_type": "error",
     "traceback": [
      "\u001b[1;36m  Cell \u001b[1;32mIn[45], line 1\u001b[1;36m\u001b[0m\n\u001b[1;33m    def em(d,nm='kishore',a):\u001b[0m\n\u001b[1;37m                           ^\u001b[0m\n\u001b[1;31mSyntaxError\u001b[0m\u001b[1;31m:\u001b[0m non-default argument follows default argument\n"
     ]
    }
   ],
   "source": [
    "def em(d,nm='kishore',a):\n",
    "    print(\"Employee id: {}\".format(d))\n",
    "    print(\"Employee Name: {}\".format(nm))\n",
    "    print(\"Employee Age: {}\".format(a))\n",
    "    return\n",
    "\n",
    "ed = int(input(\"Enter Employee Id: \"))\n",
    "ename = input(\"Enter Employee Name: \")\n",
    "em(ed,ename)"
   ]
  },
  {
   "cell_type": "code",
   "execution_count": 46,
   "id": "6b719a72",
   "metadata": {},
   "outputs": [
    {
     "name": "stdout",
     "output_type": "stream",
     "text": [
      "Enter Employee Id: 110\n",
      "Enter Employee Name: Tarun\n",
      "Enter Employee Age: 45\n",
      "Employee id: 110\n",
      "Employee Name: Tarun\n",
      "Employee Age: 45\n"
     ]
    }
   ],
   "source": [
    "def em(d=103,nm='kishore',a=30):\n",
    "    print(\"Employee id: {}\".format(d))\n",
    "    print(\"Employee Name: {}\".format(nm))\n",
    "    print(\"Employee Age: {}\".format(a))\n",
    "    return\n",
    "\n",
    "ed = int(input(\"Enter Employee Id: \"))\n",
    "ename = input(\"Enter Employee Name: \")\n",
    "eag = int(input(\"Enter Employee Age: \"))\n",
    "em(ed,ename,eag)"
   ]
  },
  {
   "cell_type": "code",
   "execution_count": 47,
   "id": "354b2efa",
   "metadata": {},
   "outputs": [
    {
     "name": "stdout",
     "output_type": "stream",
     "text": [
      "Employee id: 103\n",
      "Employee Name: kishore\n",
      "Employee Age: 30\n"
     ]
    }
   ],
   "source": [
    "def em(d=103,nm='kishore',a=30):\n",
    "    print(\"Employee id: {}\".format(d))\n",
    "    print(\"Employee Name: {}\".format(nm))\n",
    "    print(\"Employee Age: {}\".format(a))\n",
    "    return\n",
    "\n",
    "em()"
   ]
  },
  {
   "cell_type": "code",
   "execution_count": 49,
   "id": "f517bbd3",
   "metadata": {},
   "outputs": [
    {
     "ename": "TypeError",
     "evalue": "em() missing 1 required positional argument: 'k'",
     "output_type": "error",
     "traceback": [
      "\u001b[1;31m---------------------------------------------------------------------------\u001b[0m",
      "\u001b[1;31mTypeError\u001b[0m                                 Traceback (most recent call last)",
      "Cell \u001b[1;32mIn[49], line 7\u001b[0m\n\u001b[0;32m      4\u001b[0m     \u001b[38;5;28mprint\u001b[39m(\u001b[38;5;124m\"\u001b[39m\u001b[38;5;124mEmployee Age: \u001b[39m\u001b[38;5;132;01m{}\u001b[39;00m\u001b[38;5;124m\"\u001b[39m\u001b[38;5;241m.\u001b[39mformat(a))\n\u001b[0;32m      5\u001b[0m     \u001b[38;5;28;01mreturn\u001b[39;00m\n\u001b[1;32m----> 7\u001b[0m \u001b[43mem\u001b[49m\u001b[43m(\u001b[49m\u001b[43m)\u001b[49m\n",
      "\u001b[1;31mTypeError\u001b[0m: em() missing 1 required positional argument: 'k'"
     ]
    }
   ],
   "source": [
    "def em(k,d=103,nm='kishore',a=30):\n",
    "    print(\"Employee id: {}\".format(d))\n",
    "    print(\"Employee Name: {}\".format(nm))\n",
    "    print(\"Employee Age: {}\".format(a))\n",
    "    return\n",
    "\n",
    "em()"
   ]
  },
  {
   "cell_type": "code",
   "execution_count": null,
   "id": "e046bda6",
   "metadata": {},
   "outputs": [],
   "source": []
  }
 ],
 "metadata": {
  "kernelspec": {
   "display_name": "Python 3 (ipykernel)",
   "language": "python",
   "name": "python3"
  },
  "language_info": {
   "codemirror_mode": {
    "name": "ipython",
    "version": 3
   },
   "file_extension": ".py",
   "mimetype": "text/x-python",
   "name": "python",
   "nbconvert_exporter": "python",
   "pygments_lexer": "ipython3",
   "version": "3.9.13"
  }
 },
 "nbformat": 4,
 "nbformat_minor": 5
}
