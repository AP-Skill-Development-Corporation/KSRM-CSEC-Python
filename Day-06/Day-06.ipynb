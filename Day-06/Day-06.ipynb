{
 "cells": [
  {
   "cell_type": "code",
   "execution_count": 1,
   "id": "85209727",
   "metadata": {},
   "outputs": [
    {
     "name": "stdout",
     "output_type": "stream",
     "text": [
      "[12, 78, 'lalitha', 'Prasad', '89', 90]\n"
     ]
    }
   ],
   "source": [
    "h = [12,78,'lalitha','Prasad','89',90]\n",
    "print(h)"
   ]
  },
  {
   "cell_type": "code",
   "execution_count": 2,
   "id": "bb0de528",
   "metadata": {},
   "outputs": [
    {
     "name": "stdout",
     "output_type": "stream",
     "text": [
      "['__add__', '__class__', '__class_getitem__', '__contains__', '__delattr__', '__delitem__', '__dir__', '__doc__', '__eq__', '__format__', '__ge__', '__getattribute__', '__getitem__', '__gt__', '__hash__', '__iadd__', '__imul__', '__init__', '__init_subclass__', '__iter__', '__le__', '__len__', '__lt__', '__mul__', '__ne__', '__new__', '__reduce__', '__reduce_ex__', '__repr__', '__reversed__', '__rmul__', '__setattr__', '__setitem__', '__sizeof__', '__str__', '__subclasshook__', 'append', 'clear', 'copy', 'count', 'extend', 'index', 'insert', 'pop', 'remove', 'reverse', 'sort']\n"
     ]
    }
   ],
   "source": [
    "print(dir(list))"
   ]
  },
  {
   "cell_type": "code",
   "execution_count": 3,
   "id": "d5a1711e",
   "metadata": {},
   "outputs": [
    {
     "name": "stdout",
     "output_type": "stream",
     "text": [
      "[12, 78, 'lalitha', 'Prasad', '89', 90]\n"
     ]
    },
    {
     "ename": "TypeError",
     "evalue": "'int' object is not iterable",
     "output_type": "error",
     "traceback": [
      "\u001b[1;31m---------------------------------------------------------------------------\u001b[0m",
      "\u001b[1;31mTypeError\u001b[0m                                 Traceback (most recent call last)",
      "Cell \u001b[1;32mIn[3], line 2\u001b[0m\n\u001b[0;32m      1\u001b[0m \u001b[38;5;28mprint\u001b[39m(h)\n\u001b[1;32m----> 2\u001b[0m \u001b[43mh\u001b[49m\u001b[38;5;241;43m.\u001b[39;49m\u001b[43mextend\u001b[49m\u001b[43m(\u001b[49m\u001b[38;5;241;43m45\u001b[39;49m\u001b[43m)\u001b[49m\n\u001b[0;32m      3\u001b[0m \u001b[38;5;28mprint\u001b[39m(h)\n",
      "\u001b[1;31mTypeError\u001b[0m: 'int' object is not iterable"
     ]
    }
   ],
   "source": [
    "print(h)\n",
    "h.extend(45)\n",
    "print(h)"
   ]
  },
  {
   "cell_type": "code",
   "execution_count": 4,
   "id": "2b79439a",
   "metadata": {},
   "outputs": [
    {
     "name": "stdout",
     "output_type": "stream",
     "text": [
      "[12, 78, 'lalitha', 'Prasad', '89', 90]\n",
      "[12, 78, 'lalitha', 'Prasad', '89', 90, 45, 78, 96, '456']\n"
     ]
    }
   ],
   "source": [
    "print(h)\n",
    "h.extend([45,78,96,'456'])\n",
    "print(h)"
   ]
  },
  {
   "cell_type": "code",
   "execution_count": 6,
   "id": "204de5e5",
   "metadata": {},
   "outputs": [
    {
     "name": "stdout",
     "output_type": "stream",
     "text": [
      "[12, 78, 'lalitha', 'Prasad', '89', 90, 45, 78, 96, '456']\n",
      "[12, 78, 'lalitha', 'Prasad', '89', 90, 45, 78, 96, '456', '45', 'k', 4, 56]\n"
     ]
    }
   ],
   "source": [
    "print(h)\n",
    "h.extend(('45','k',4,56))\n",
    "print(h)"
   ]
  },
  {
   "cell_type": "code",
   "execution_count": 7,
   "id": "66ded9f8",
   "metadata": {},
   "outputs": [
    {
     "name": "stdout",
     "output_type": "stream",
     "text": [
      "[12, 78, 'lalitha', 'Prasad', '89', 90, 45, 78, 96, '456', '45', 'k', 4, 56]\n",
      "[12, 78, 'lalitha', 'Prasad', '89', 90, 45, 78, 96, '456', '45', 'k', 4, 56, 'l', 4, '45', 56, 'k']\n"
     ]
    }
   ],
   "source": [
    "print(h)\n",
    "h.extend({'45','k',4,56,'l'})\n",
    "print(h)"
   ]
  },
  {
   "cell_type": "code",
   "execution_count": 8,
   "id": "04e58e32",
   "metadata": {},
   "outputs": [
    {
     "name": "stdout",
     "output_type": "stream",
     "text": [
      "[12, 78, 'lalitha', 'Prasad', '89', 90, 45, 78, 96, '456', '45', 'k', 4, 56, 'l', 4, '45', 56, 'k']\n",
      "[12, 78, 'lalitha', 'Prasad', '89', 90, 45, 78, 96, '456', '45', 'k', 4, 56, 'l', 4, '45', 56, 'k', 't', 'h', 'i', 's', ' ', 'i', 's', ' ', 's', 'a', 'm', 'p', 'l', 'e', ' ', 'e', 'x', 'a', 'm', 'p', 'l', 'e']\n"
     ]
    }
   ],
   "source": [
    "print(h)\n",
    "h.extend('this is sample example')\n",
    "print(h)"
   ]
  },
  {
   "cell_type": "code",
   "execution_count": 9,
   "id": "01b4dc46",
   "metadata": {},
   "outputs": [
    {
     "name": "stdout",
     "output_type": "stream",
     "text": [
      "[12, 78, 'lalitha', 'Prasad', '89', 90, 45, 78, 96, '456', '45', 'k', 4, 56, 'l', 4, '45', 56, 'k', 't', 'h', 'i', 's', ' ', 'i', 's', ' ', 's', 'a', 'm', 'p', 'l', 'e', ' ', 'e', 'x', 'a', 'm', 'p', 'l', 'e']\n"
     ]
    },
    {
     "ename": "TypeError",
     "evalue": "insert expected 2 arguments, got 1",
     "output_type": "error",
     "traceback": [
      "\u001b[1;31m---------------------------------------------------------------------------\u001b[0m",
      "\u001b[1;31mTypeError\u001b[0m                                 Traceback (most recent call last)",
      "Cell \u001b[1;32mIn[9], line 2\u001b[0m\n\u001b[0;32m      1\u001b[0m \u001b[38;5;28mprint\u001b[39m(h)\n\u001b[1;32m----> 2\u001b[0m \u001b[43mh\u001b[49m\u001b[38;5;241;43m.\u001b[39;49m\u001b[43minsert\u001b[49m\u001b[43m(\u001b[49m\u001b[38;5;241;43m450\u001b[39;49m\u001b[43m)\u001b[49m\n\u001b[0;32m      3\u001b[0m \u001b[38;5;28mprint\u001b[39m(h)\n",
      "\u001b[1;31mTypeError\u001b[0m: insert expected 2 arguments, got 1"
     ]
    }
   ],
   "source": [
    "print(h)\n",
    "h.insert(450)\n",
    "print(h)"
   ]
  },
  {
   "cell_type": "code",
   "execution_count": 10,
   "id": "1163390b",
   "metadata": {},
   "outputs": [
    {
     "name": "stdout",
     "output_type": "stream",
     "text": [
      "[12, 78, 'lalitha', 'Prasad', '89', 90, 45, 78, 96, '456', '45', 'k', 4, 56, 'l', 4, '45', 56, 'k', 't', 'h', 'i', 's', ' ', 'i', 's', ' ', 's', 'a', 'm', 'p', 'l', 'e', ' ', 'e', 'x', 'a', 'm', 'p', 'l', 'e']\n",
      "[12, 450, 78, 'lalitha', 'Prasad', '89', 90, 45, 78, 96, '456', '45', 'k', 4, 56, 'l', 4, '45', 56, 'k', 't', 'h', 'i', 's', ' ', 'i', 's', ' ', 's', 'a', 'm', 'p', 'l', 'e', ' ', 'e', 'x', 'a', 'm', 'p', 'l', 'e']\n"
     ]
    }
   ],
   "source": [
    "print(h)\n",
    "h.insert(1,450)\n",
    "print(h)"
   ]
  },
  {
   "cell_type": "code",
   "execution_count": 11,
   "id": "f961d5fd",
   "metadata": {},
   "outputs": [
    {
     "name": "stdout",
     "output_type": "stream",
     "text": [
      "[12, 450, 78, 'lalitha', 'Prasad', '89', 90, 45, 78, 96, '456', '45', 'k', 4, 56, 'l', 4, '45', 56, 'k', 't', 'h', 'i', 's', ' ', 'i', 's', ' ', 's', 'a', 'm', 'p', 'l', 'e', ' ', 'e', 'x', 'a', 'm', 'p', 'l', 'e']\n",
      "[12, [450, 'prasad'], 450, 78, 'lalitha', 'Prasad', '89', 90, 45, 78, 96, '456', '45', 'k', 4, 56, 'l', 4, '45', 56, 'k', 't', 'h', 'i', 's', ' ', 'i', 's', ' ', 's', 'a', 'm', 'p', 'l', 'e', ' ', 'e', 'x', 'a', 'm', 'p', 'l', 'e']\n"
     ]
    }
   ],
   "source": [
    "print(h)\n",
    "h.insert(1,[450,'prasad'])\n",
    "print(h)"
   ]
  },
  {
   "cell_type": "code",
   "execution_count": 12,
   "id": "48a74f39",
   "metadata": {},
   "outputs": [
    {
     "name": "stdout",
     "output_type": "stream",
     "text": [
      "[12, [450, 'prasad'], 450, 78, 'lalitha', 'Prasad', '89', 90, 45, 78, 96, '456', '45', 'k', 4, 56, 'l', 4, '45', 56, 'k', 't', 'h', 'i', 's', ' ', 'i', 's', ' ', 's', 'a', 'm', 'p', 'l', 'e', ' ', 'e', 'x', 'a', 'm', 'p', 'l', 'e']\n",
      "[12, [450, 'prasad'], 450, 78, 'lalitha', 'Prasad', '89', 90, 45, 78, 96, '456', '45', 'k', 4, 56, 'l', 4, '45', 56, 'k', 't', 'h', 'i', 's', ' ', 'i', 's', ' ', 's', 'a', 'm', 'p', 'l', 'e', ' ', 'e', 'x', 'a', 'm', 'p', 'l']\n"
     ]
    }
   ],
   "source": [
    "print(h)\n",
    "h.pop()\n",
    "print(h)"
   ]
  },
  {
   "cell_type": "code",
   "execution_count": 13,
   "id": "b3013cd3",
   "metadata": {},
   "outputs": [
    {
     "name": "stdout",
     "output_type": "stream",
     "text": [
      "[12, [450, 'prasad'], 450, 78, 'lalitha', 'Prasad', '89', 90, 45, 78, 96, '456', '45', 'k', 4, 56, 'l', 4, '45', 56, 'k', 't', 'h', 'i', 's', ' ', 'i', 's', ' ', 's', 'a', 'm', 'p', 'l', 'e', ' ', 'e', 'x', 'a', 'm', 'p', 'l']\n",
      "[12, [450, 'prasad'], 450, 78, 'lalitha', 'Prasad', '89', 90, 45, 78, 96, '456', 'k', 4, 56, 'l', 4, '45', 56, 'k', 't', 'h', 'i', 's', ' ', 'i', 's', ' ', 's', 'a', 'm', 'p', 'l', 'e', ' ', 'e', 'x', 'a', 'm', 'p', 'l']\n"
     ]
    }
   ],
   "source": [
    "print(h)\n",
    "h.pop(12)\n",
    "print(h)"
   ]
  },
  {
   "cell_type": "code",
   "execution_count": 14,
   "id": "fc9ee395",
   "metadata": {},
   "outputs": [
    {
     "name": "stdout",
     "output_type": "stream",
     "text": [
      "[12, [450, 'prasad'], 450, 78, 'lalitha', 'Prasad', '89', 90, 45, 78, 96, '456', 'k', 4, 56, 'l', 4, '45', 56, 'k', 't', 'h', 'i', 's', ' ', 'i', 's', ' ', 's', 'a', 'm', 'p', 'l', 'e', ' ', 'e', 'x', 'a', 'm', 'p', 'l']\n",
      "[12, 450, 78, 'lalitha', 'Prasad', '89', 90, 45, 78, 96, '456', 'k', 4, 56, 'l', 4, '45', 56, 'k', 't', 'h', 'i', 's', ' ', 'i', 's', ' ', 's', 'a', 'm', 'p', 'l', 'e', ' ', 'e', 'x', 'a', 'm', 'p', 'l']\n"
     ]
    }
   ],
   "source": [
    "print(h)\n",
    "h.pop(1)\n",
    "print(h)"
   ]
  },
  {
   "cell_type": "code",
   "execution_count": 15,
   "id": "5b342d72",
   "metadata": {},
   "outputs": [
    {
     "name": "stdout",
     "output_type": "stream",
     "text": [
      "[12, 450, 78, 'lalitha', 'Prasad', '89', 90, 45, 78, 96, '456', 'k', 4, 56, 'l', 4, '45', 56, 'k', 't', 'h', 'i', 's', ' ', 'i', 's', ' ', 's', 'a', 'm', 'p', 'l', 'e', ' ', 'e', 'x', 'a', 'm', 'p', 'l']\n"
     ]
    },
    {
     "ename": "IndexError",
     "evalue": "pop index out of range",
     "output_type": "error",
     "traceback": [
      "\u001b[1;31m---------------------------------------------------------------------------\u001b[0m",
      "\u001b[1;31mIndexError\u001b[0m                                Traceback (most recent call last)",
      "Cell \u001b[1;32mIn[15], line 2\u001b[0m\n\u001b[0;32m      1\u001b[0m \u001b[38;5;28mprint\u001b[39m(h)\n\u001b[1;32m----> 2\u001b[0m \u001b[43mh\u001b[49m\u001b[38;5;241;43m.\u001b[39;49m\u001b[43mpop\u001b[49m\u001b[43m(\u001b[49m\u001b[38;5;241;43m100\u001b[39;49m\u001b[43m)\u001b[49m\n\u001b[0;32m      3\u001b[0m \u001b[38;5;28mprint\u001b[39m(h)\n",
      "\u001b[1;31mIndexError\u001b[0m: pop index out of range"
     ]
    }
   ],
   "source": [
    "print(h)\n",
    "h.pop(100)\n",
    "print(h)"
   ]
  },
  {
   "cell_type": "code",
   "execution_count": 16,
   "id": "67c679c4",
   "metadata": {},
   "outputs": [
    {
     "name": "stdout",
     "output_type": "stream",
     "text": [
      "[12, 450, 78, 'lalitha', 'Prasad', '89', 90, 45, 78, 96, '456', 'k', 4, 56, 'l', 4, '45', 56, 'k', 't', 'h', 'i', 's', ' ', 'i', 's', ' ', 's', 'a', 'm', 'p', 'l', 'e', ' ', 'e', 'x', 'a', 'm', 'p', 'l']\n"
     ]
    },
    {
     "ename": "TypeError",
     "evalue": "list.remove() takes exactly one argument (0 given)",
     "output_type": "error",
     "traceback": [
      "\u001b[1;31m---------------------------------------------------------------------------\u001b[0m",
      "\u001b[1;31mTypeError\u001b[0m                                 Traceback (most recent call last)",
      "Cell \u001b[1;32mIn[16], line 2\u001b[0m\n\u001b[0;32m      1\u001b[0m \u001b[38;5;28mprint\u001b[39m(h)\n\u001b[1;32m----> 2\u001b[0m \u001b[43mh\u001b[49m\u001b[38;5;241;43m.\u001b[39;49m\u001b[43mremove\u001b[49m\u001b[43m(\u001b[49m\u001b[43m)\u001b[49m\n\u001b[0;32m      3\u001b[0m \u001b[38;5;28mprint\u001b[39m()\n",
      "\u001b[1;31mTypeError\u001b[0m: list.remove() takes exactly one argument (0 given)"
     ]
    }
   ],
   "source": [
    "print(h)\n",
    "h.remove()\n",
    "print()"
   ]
  },
  {
   "cell_type": "code",
   "execution_count": 17,
   "id": "647418f5",
   "metadata": {},
   "outputs": [
    {
     "name": "stdout",
     "output_type": "stream",
     "text": [
      "[12, 450, 78, 'lalitha', 'Prasad', '89', 90, 45, 78, 96, '456', 'k', 4, 56, 'l', 4, '45', 56, 'k', 't', 'h', 'i', 's', ' ', 'i', 's', ' ', 's', 'a', 'm', 'p', 'l', 'e', ' ', 'e', 'x', 'a', 'm', 'p', 'l']\n",
      "[12, 450, 78, 'lalitha', '89', 90, 45, 78, 96, '456', 'k', 4, 56, 'l', 4, '45', 56, 'k', 't', 'h', 'i', 's', ' ', 'i', 's', ' ', 's', 'a', 'm', 'p', 'l', 'e', ' ', 'e', 'x', 'a', 'm', 'p', 'l']\n"
     ]
    }
   ],
   "source": [
    "print(h)\n",
    "h.remove('Prasad')\n",
    "print(h)"
   ]
  },
  {
   "cell_type": "code",
   "execution_count": 18,
   "id": "5fa85089",
   "metadata": {},
   "outputs": [
    {
     "name": "stdout",
     "output_type": "stream",
     "text": [
      "[12, 450, 78, 'lalitha', '89', 90, 45, 78, 96, '456', 'k', 4, 56, 'l', 4, '45', 56, 'k', 't', 'h', 'i', 's', ' ', 'i', 's', ' ', 's', 'a', 'm', 'p', 'l', 'e', ' ', 'e', 'x', 'a', 'm', 'p', 'l']\n"
     ]
    },
    {
     "ename": "ValueError",
     "evalue": "list.remove(x): x not in list",
     "output_type": "error",
     "traceback": [
      "\u001b[1;31m---------------------------------------------------------------------------\u001b[0m",
      "\u001b[1;31mValueError\u001b[0m                                Traceback (most recent call last)",
      "Cell \u001b[1;32mIn[18], line 2\u001b[0m\n\u001b[0;32m      1\u001b[0m \u001b[38;5;28mprint\u001b[39m(h)\n\u001b[1;32m----> 2\u001b[0m \u001b[43mh\u001b[49m\u001b[38;5;241;43m.\u001b[39;49m\u001b[43mremove\u001b[49m\u001b[43m(\u001b[49m\u001b[38;5;124;43m'\u001b[39;49m\u001b[38;5;124;43mLavanya\u001b[39;49m\u001b[38;5;124;43m'\u001b[39;49m\u001b[43m)\u001b[49m\n\u001b[0;32m      3\u001b[0m \u001b[38;5;28mprint\u001b[39m(h)\n",
      "\u001b[1;31mValueError\u001b[0m: list.remove(x): x not in list"
     ]
    }
   ],
   "source": [
    "print(h)\n",
    "h.remove('Lavanya')\n",
    "print(h)"
   ]
  },
  {
   "cell_type": "code",
   "execution_count": 20,
   "id": "e6d445f3",
   "metadata": {},
   "outputs": [
    {
     "name": "stdout",
     "output_type": "stream",
     "text": [
      "[450]\n",
      "[450]\n",
      "[450]\n",
      "[450]\n",
      "[]\n"
     ]
    }
   ],
   "source": [
    "k = [450]\n",
    "print(k)\n",
    "z = k.copy()\n",
    "print(k)\n",
    "print(z)\n",
    "z.remove(450)\n",
    "print(k)\n",
    "print(z)"
   ]
  },
  {
   "cell_type": "code",
   "execution_count": 21,
   "id": "0af0e945",
   "metadata": {},
   "outputs": [
    {
     "name": "stdout",
     "output_type": "stream",
     "text": [
      "[45, 78, 89, 6, 56, 45, 53, 12132132]\n",
      "2\n",
      "0\n"
     ]
    }
   ],
   "source": [
    "w = [45,78,89,6,56,45,53,12132132]\n",
    "print(w)\n",
    "print(w.count(45))\n",
    "print(w.count(-400))"
   ]
  },
  {
   "cell_type": "code",
   "execution_count": 23,
   "id": "690ba6d7",
   "metadata": {},
   "outputs": [
    {
     "name": "stdout",
     "output_type": "stream",
     "text": [
      "[12, 8, 5, 9, 6, 8, 5, 452, 10254]\n",
      "[5, 5, 6, 8, 8, 9, 12, 452, 10254]\n",
      "[10254, 452, 12, 9, 8, 8, 6, 5, 5]\n"
     ]
    }
   ],
   "source": [
    "z = [12,8,5,9,6,8,5,452,10254]\n",
    "print(z)\n",
    "z.sort()\n",
    "print(z)\n",
    "z.reverse()\n",
    "print(z)"
   ]
  },
  {
   "cell_type": "code",
   "execution_count": 25,
   "id": "985438b2",
   "metadata": {},
   "outputs": [
    {
     "name": "stdout",
     "output_type": "stream",
     "text": [
      "[45, 852, 95, 4589, 12, 3]\n",
      "[4589, 852, 95, 45, 12, 3]\n"
     ]
    }
   ],
   "source": [
    "k = [45,852,95,4589,12,3]\n",
    "print(k)\n",
    "k.sort(reverse=True)\n",
    "print(k)"
   ]
  },
  {
   "cell_type": "code",
   "execution_count": 26,
   "id": "5382670e",
   "metadata": {},
   "outputs": [
    {
     "name": "stdout",
     "output_type": "stream",
     "text": [
      "[4589, 852, 95, 45, 12, 3]\n",
      "[]\n"
     ]
    }
   ],
   "source": [
    "print(k)\n",
    "k.clear()\n",
    "print(k)"
   ]
  },
  {
   "cell_type": "code",
   "execution_count": 27,
   "id": "96c210dc",
   "metadata": {},
   "outputs": [
    {
     "name": "stdout",
     "output_type": "stream",
     "text": [
      "[45, 'prasad']\n"
     ]
    },
    {
     "ename": "NameError",
     "evalue": "name 'w' is not defined",
     "output_type": "error",
     "traceback": [
      "\u001b[1;31m---------------------------------------------------------------------------\u001b[0m",
      "\u001b[1;31mNameError\u001b[0m                                 Traceback (most recent call last)",
      "Cell \u001b[1;32mIn[27], line 4\u001b[0m\n\u001b[0;32m      2\u001b[0m \u001b[38;5;28mprint\u001b[39m(w)\n\u001b[0;32m      3\u001b[0m \u001b[38;5;28;01mdel\u001b[39;00m w\n\u001b[1;32m----> 4\u001b[0m \u001b[38;5;28mprint\u001b[39m(\u001b[43mw\u001b[49m)\n",
      "\u001b[1;31mNameError\u001b[0m: name 'w' is not defined"
     ]
    }
   ],
   "source": [
    "w = [45,'prasad']\n",
    "print(w)\n",
    "del w\n",
    "print(w)"
   ]
  },
  {
   "cell_type": "code",
   "execution_count": 29,
   "id": "621eac45",
   "metadata": {},
   "outputs": [
    {
     "name": "stdout",
     "output_type": "stream",
     "text": [
      "[45, 89, 56, 78, '785']\n",
      "2\n"
     ]
    },
    {
     "ename": "ValueError",
     "evalue": "-500 is not in list",
     "output_type": "error",
     "traceback": [
      "\u001b[1;31m---------------------------------------------------------------------------\u001b[0m",
      "\u001b[1;31mValueError\u001b[0m                                Traceback (most recent call last)",
      "Cell \u001b[1;32mIn[29], line 4\u001b[0m\n\u001b[0;32m      2\u001b[0m \u001b[38;5;28mprint\u001b[39m(s)\n\u001b[0;32m      3\u001b[0m \u001b[38;5;28mprint\u001b[39m(s\u001b[38;5;241m.\u001b[39mindex(\u001b[38;5;241m56\u001b[39m))\n\u001b[1;32m----> 4\u001b[0m \u001b[38;5;28mprint\u001b[39m(\u001b[43ms\u001b[49m\u001b[38;5;241;43m.\u001b[39;49m\u001b[43mindex\u001b[49m\u001b[43m(\u001b[49m\u001b[38;5;241;43m-\u001b[39;49m\u001b[38;5;241;43m500\u001b[39;49m\u001b[43m)\u001b[49m)\n",
      "\u001b[1;31mValueError\u001b[0m: -500 is not in list"
     ]
    }
   ],
   "source": [
    "s = [45,89,56,78,'785']\n",
    "print(s)\n",
    "print(s.index(56))\n",
    "print(s.index(-500))"
   ]
  },
  {
   "cell_type": "markdown",
   "id": "59dbc01c",
   "metadata": {},
   "source": [
    "## Tuple:"
   ]
  },
  {
   "cell_type": "code",
   "execution_count": 30,
   "id": "0b5d10ec",
   "metadata": {},
   "outputs": [
    {
     "name": "stdout",
     "output_type": "stream",
     "text": [
      "(45, 568.0, 'kavya', True, (5+6j), None, 45, 45) <class 'tuple'>\n"
     ]
    }
   ],
   "source": [
    "k = (45,568.00,'kavya',True,5+6j,None,45,45)\n",
    "print(k,type(k))"
   ]
  },
  {
   "cell_type": "code",
   "execution_count": 32,
   "id": "6a8bbbe7",
   "metadata": {},
   "outputs": [
    {
     "name": "stdout",
     "output_type": "stream",
     "text": [
      "0 <class 'int'> => 45 <class 'int'>\n",
      "1 <class 'int'> => 568.0 <class 'float'>\n",
      "2 <class 'int'> => kavya <class 'str'>\n",
      "3 <class 'int'> => True <class 'bool'>\n",
      "4 <class 'int'> => (5+6j) <class 'complex'>\n",
      "5 <class 'int'> => None <class 'NoneType'>\n",
      "6 <class 'int'> => 45 <class 'int'>\n",
      "7 <class 'int'> => 45 <class 'int'>\n"
     ]
    }
   ],
   "source": [
    "for i in range(len(k)):\n",
    "    print(i,type(i),\"=>\",k[i],type(k[i]))"
   ]
  },
  {
   "cell_type": "code",
   "execution_count": 33,
   "id": "77611a35",
   "metadata": {},
   "outputs": [
    {
     "name": "stdout",
     "output_type": "stream",
     "text": [
      "45 <class 'int'>\n",
      "568.0 <class 'float'>\n",
      "kavya <class 'str'>\n",
      "True <class 'bool'>\n",
      "(5+6j) <class 'complex'>\n",
      "None <class 'NoneType'>\n",
      "45 <class 'int'>\n",
      "45 <class 'int'>\n"
     ]
    }
   ],
   "source": [
    "for i in k:\n",
    "    print(i,type(i))"
   ]
  },
  {
   "cell_type": "code",
   "execution_count": 34,
   "id": "ea8818c0",
   "metadata": {},
   "outputs": [
    {
     "name": "stdout",
     "output_type": "stream",
     "text": [
      "(45, 568.0, 'kavya', True, (5+6j), None, 45, 45)\n",
      "True\n",
      "('kavya', True, (5+6j), None)\n",
      "(45, 45, None, (5+6j), True, 'kavya', 568.0, 45)\n"
     ]
    }
   ],
   "source": [
    "print(k)\n",
    "print(k[3])\n",
    "print(k[2:6])\n",
    "print(k[::-1])"
   ]
  },
  {
   "cell_type": "code",
   "execution_count": 35,
   "id": "a28a1fff",
   "metadata": {},
   "outputs": [
    {
     "name": "stdout",
     "output_type": "stream",
     "text": [
      "['__add__', '__class__', '__class_getitem__', '__contains__', '__delattr__', '__dir__', '__doc__', '__eq__', '__format__', '__ge__', '__getattribute__', '__getitem__', '__getnewargs__', '__gt__', '__hash__', '__init__', '__init_subclass__', '__iter__', '__le__', '__len__', '__lt__', '__mul__', '__ne__', '__new__', '__reduce__', '__reduce_ex__', '__repr__', '__rmul__', '__setattr__', '__sizeof__', '__str__', '__subclasshook__', 'count', 'index']\n"
     ]
    }
   ],
   "source": [
    "print(dir(tuple))"
   ]
  },
  {
   "cell_type": "code",
   "execution_count": 36,
   "id": "b3440dc7",
   "metadata": {},
   "outputs": [
    {
     "name": "stdout",
     "output_type": "stream",
     "text": [
      "(45, 8, 5, 9, 6, 8, 5, 7, 4)\n",
      "2\n",
      "0\n",
      "4\n"
     ]
    },
    {
     "ename": "ValueError",
     "evalue": "tuple.index(x): x not in tuple",
     "output_type": "error",
     "traceback": [
      "\u001b[1;31m---------------------------------------------------------------------------\u001b[0m",
      "\u001b[1;31mValueError\u001b[0m                                Traceback (most recent call last)",
      "Cell \u001b[1;32mIn[36], line 6\u001b[0m\n\u001b[0;32m      4\u001b[0m \u001b[38;5;28mprint\u001b[39m(j\u001b[38;5;241m.\u001b[39mcount(\u001b[38;5;241m-\u001b[39m\u001b[38;5;241m500\u001b[39m))\n\u001b[0;32m      5\u001b[0m \u001b[38;5;28mprint\u001b[39m(j\u001b[38;5;241m.\u001b[39mindex(\u001b[38;5;241m6\u001b[39m))\n\u001b[1;32m----> 6\u001b[0m \u001b[38;5;28mprint\u001b[39m(\u001b[43mj\u001b[49m\u001b[38;5;241;43m.\u001b[39;49m\u001b[43mindex\u001b[49m\u001b[43m(\u001b[49m\u001b[38;5;241;43m10\u001b[39;49m\u001b[43m)\u001b[49m)\n",
      "\u001b[1;31mValueError\u001b[0m: tuple.index(x): x not in tuple"
     ]
    }
   ],
   "source": [
    "j = (45,8,5,9,6,8,5,7,4)\n",
    "print(j)\n",
    "print(j.count(5))\n",
    "print(j.count(-500))\n",
    "print(j.index(6))\n",
    "print(j.index(10))"
   ]
  },
  {
   "cell_type": "markdown",
   "id": "30d5ba99",
   "metadata": {},
   "source": [
    "## Set:"
   ]
  },
  {
   "cell_type": "code",
   "execution_count": 40,
   "id": "a4ff06d3",
   "metadata": {},
   "outputs": [
    {
     "name": "stdout",
     "output_type": "stream",
     "text": [
      "{} <class 'dict'>\n",
      "{'p'} <class 'set'>\n",
      "{'78', 15} <class 'set'>\n"
     ]
    }
   ],
   "source": [
    "k = {}\n",
    "h = {'p'}\n",
    "g = set([15,'78'])\n",
    "print(k,type(k))\n",
    "print(h,type(h))\n",
    "print(g,type(g))"
   ]
  },
  {
   "cell_type": "code",
   "execution_count": 41,
   "id": "90120195",
   "metadata": {},
   "outputs": [
    {
     "name": "stdout",
     "output_type": "stream",
     "text": [
      "['__and__', '__class__', '__class_getitem__', '__contains__', '__delattr__', '__dir__', '__doc__', '__eq__', '__format__', '__ge__', '__getattribute__', '__gt__', '__hash__', '__iand__', '__init__', '__init_subclass__', '__ior__', '__isub__', '__iter__', '__ixor__', '__le__', '__len__', '__lt__', '__ne__', '__new__', '__or__', '__rand__', '__reduce__', '__reduce_ex__', '__repr__', '__ror__', '__rsub__', '__rxor__', '__setattr__', '__sizeof__', '__str__', '__sub__', '__subclasshook__', '__xor__', 'add', 'clear', 'copy', 'difference', 'difference_update', 'discard', 'intersection', 'intersection_update', 'isdisjoint', 'issubset', 'issuperset', 'pop', 'remove', 'symmetric_difference', 'symmetric_difference_update', 'union', 'update']\n"
     ]
    }
   ],
   "source": [
    "print(dir(set))"
   ]
  },
  {
   "cell_type": "code",
   "execution_count": 44,
   "id": "e23b28da",
   "metadata": {},
   "outputs": [
    {
     "name": "stdout",
     "output_type": "stream",
     "text": [
      "{False, '56.0100', (7+5j), 56.0, 12, None} <class 'set'>\n"
     ]
    },
    {
     "data": {
      "text/plain": [
       "{(7+5j), 12, 56.0, '56.0100', False, None}"
      ]
     },
     "execution_count": 44,
     "metadata": {},
     "output_type": "execute_result"
    }
   ],
   "source": [
    "d = {12,56.000,'56.0100',False,None,7+5j,12}\n",
    "print(d,type(d))\n",
    "d"
   ]
  },
  {
   "cell_type": "code",
   "execution_count": 45,
   "id": "b0938ab1",
   "metadata": {},
   "outputs": [
    {
     "name": "stdout",
     "output_type": "stream",
     "text": [
      "{3, 5, 6, 9, 780, 45, 78}\n",
      "{450, 3, 6, 89, 12, 78}\n"
     ]
    }
   ],
   "source": [
    "a = {45,78,3,5,6,9,780}\n",
    "b = {78,3,6,450,89,12}\n",
    "print(a)\n",
    "print(b)"
   ]
  },
  {
   "cell_type": "code",
   "execution_count": 46,
   "id": "955334ae",
   "metadata": {},
   "outputs": [
    {
     "name": "stdout",
     "output_type": "stream",
     "text": [
      "{3, 5, 6, 9, 780, 45, 78}\n",
      "{450, 3, 6, 89, 12, 78}\n",
      "{450, 3, 5, 6, 9, 780, 45, 78, 12, 89}\n",
      "{3, 5, 6, 9, 780, 45, 78}\n",
      "{450, 3, 6, 89, 12, 78}\n"
     ]
    }
   ],
   "source": [
    "print(a)\n",
    "print(b)\n",
    "print(a.union(b))\n",
    "print(a)\n",
    "print(b)"
   ]
  },
  {
   "cell_type": "code",
   "execution_count": 47,
   "id": "1bccd2ac",
   "metadata": {},
   "outputs": [
    {
     "name": "stdout",
     "output_type": "stream",
     "text": [
      "{3, 5, 6, 9, 780, 45, 78}\n",
      "{450, 3, 6, 89, 12, 78}\n",
      "{78, 3, 6}\n",
      "{3, 5, 6, 9, 780, 45, 78}\n",
      "{450, 3, 6, 89, 12, 78}\n"
     ]
    }
   ],
   "source": [
    "print(a)\n",
    "print(b)\n",
    "print(a.intersection(b))\n",
    "print(a)\n",
    "print(b)"
   ]
  },
  {
   "cell_type": "code",
   "execution_count": 48,
   "id": "90e2b3b3",
   "metadata": {},
   "outputs": [
    {
     "name": "stdout",
     "output_type": "stream",
     "text": [
      "{3, 5, 6, 9, 780, 45, 78}\n",
      "{450, 3, 6, 89, 12, 78}\n",
      "{9, 45, 780, 5}\n",
      "{3, 5, 6, 9, 780, 45, 78}\n",
      "{450, 3, 6, 89, 12, 78}\n"
     ]
    }
   ],
   "source": [
    "print(a)\n",
    "print(b)\n",
    "print(a.difference(b))\n",
    "print(a)\n",
    "print(b)"
   ]
  },
  {
   "cell_type": "code",
   "execution_count": 49,
   "id": "81834fe2",
   "metadata": {},
   "outputs": [
    {
     "name": "stdout",
     "output_type": "stream",
     "text": [
      "{3, 5, 6, 9, 780, 45, 78}\n",
      "{450, 3, 6, 89, 12, 78}\n",
      "{450, 5, 9, 780, 12, 45, 89}\n",
      "{3, 5, 6, 9, 780, 45, 78}\n",
      "{450, 3, 6, 89, 12, 78}\n"
     ]
    }
   ],
   "source": [
    "print(a)\n",
    "print(b)\n",
    "print(a.symmetric_difference(b))\n",
    "print(a)\n",
    "print(b)"
   ]
  },
  {
   "cell_type": "code",
   "execution_count": 50,
   "id": "cd9d590c",
   "metadata": {},
   "outputs": [
    {
     "name": "stdout",
     "output_type": "stream",
     "text": [
      "{12}\n",
      "{19, 12}\n"
     ]
    }
   ],
   "source": [
    "c = {12}\n",
    "print(c)\n",
    "c.add(19)\n",
    "print(c)"
   ]
  },
  {
   "cell_type": "code",
   "execution_count": 51,
   "id": "a1d6e082",
   "metadata": {},
   "outputs": [
    {
     "name": "stdout",
     "output_type": "stream",
     "text": [
      "{12}\n"
     ]
    },
    {
     "ename": "TypeError",
     "evalue": "set.add() takes exactly one argument (2 given)",
     "output_type": "error",
     "traceback": [
      "\u001b[1;31m---------------------------------------------------------------------------\u001b[0m",
      "\u001b[1;31mTypeError\u001b[0m                                 Traceback (most recent call last)",
      "Cell \u001b[1;32mIn[51], line 3\u001b[0m\n\u001b[0;32m      1\u001b[0m c \u001b[38;5;241m=\u001b[39m {\u001b[38;5;241m12\u001b[39m}\n\u001b[0;32m      2\u001b[0m \u001b[38;5;28mprint\u001b[39m(c)\n\u001b[1;32m----> 3\u001b[0m \u001b[43mc\u001b[49m\u001b[38;5;241;43m.\u001b[39;49m\u001b[43madd\u001b[49m\u001b[43m(\u001b[49m\u001b[38;5;241;43m19\u001b[39;49m\u001b[43m,\u001b[49m\u001b[38;5;241;43m56\u001b[39;49m\u001b[43m)\u001b[49m\n\u001b[0;32m      4\u001b[0m \u001b[38;5;28mprint\u001b[39m(c)\n",
      "\u001b[1;31mTypeError\u001b[0m: set.add() takes exactly one argument (2 given)"
     ]
    }
   ],
   "source": [
    "c = {12}\n",
    "print(c)\n",
    "c.add(19,56)\n",
    "print(c)"
   ]
  },
  {
   "cell_type": "code",
   "execution_count": 52,
   "id": "6183de31",
   "metadata": {},
   "outputs": [
    {
     "name": "stdout",
     "output_type": "stream",
     "text": [
      "{12}\n"
     ]
    },
    {
     "ename": "TypeError",
     "evalue": "unhashable type: 'list'",
     "output_type": "error",
     "traceback": [
      "\u001b[1;31m---------------------------------------------------------------------------\u001b[0m",
      "\u001b[1;31mTypeError\u001b[0m                                 Traceback (most recent call last)",
      "Cell \u001b[1;32mIn[52], line 2\u001b[0m\n\u001b[0;32m      1\u001b[0m \u001b[38;5;28mprint\u001b[39m(c)\n\u001b[1;32m----> 2\u001b[0m \u001b[43mc\u001b[49m\u001b[38;5;241;43m.\u001b[39;49m\u001b[43madd\u001b[49m\u001b[43m(\u001b[49m\u001b[43m[\u001b[49m\u001b[38;5;241;43m19\u001b[39;49m\u001b[43m,\u001b[49m\u001b[38;5;241;43m56\u001b[39;49m\u001b[43m,\u001b[49m\u001b[38;5;241;43m78\u001b[39;49m\u001b[43m]\u001b[49m\u001b[43m)\u001b[49m\n\u001b[0;32m      3\u001b[0m \u001b[38;5;28mprint\u001b[39m(c)\n",
      "\u001b[1;31mTypeError\u001b[0m: unhashable type: 'list'"
     ]
    }
   ],
   "source": [
    "print(c)\n",
    "c.add([19,56,78])\n",
    "print(c)"
   ]
  },
  {
   "cell_type": "code",
   "execution_count": 53,
   "id": "40855d5f",
   "metadata": {},
   "outputs": [
    {
     "name": "stdout",
     "output_type": "stream",
     "text": [
      "{12}\n",
      "{(19, 56, 78), 12}\n"
     ]
    }
   ],
   "source": [
    "print(c)\n",
    "c.add((19,56,78))\n",
    "print(c)"
   ]
  },
  {
   "cell_type": "code",
   "execution_count": 54,
   "id": "0f30e66b",
   "metadata": {},
   "outputs": [
    {
     "name": "stdout",
     "output_type": "stream",
     "text": [
      "{(19, 56, 78), 12}\n",
      "{'19,56,78', (19, 56, 78), 12}\n"
     ]
    }
   ],
   "source": [
    "print(c)\n",
    "c.add('19,56,78')\n",
    "print(c)"
   ]
  },
  {
   "cell_type": "code",
   "execution_count": 55,
   "id": "5f1bc9d8",
   "metadata": {},
   "outputs": [
    {
     "name": "stdout",
     "output_type": "stream",
     "text": [
      "{96, 4, 5, 7, 8, 9}\n",
      "{4, 5, 7, 8, 9}\n"
     ]
    }
   ],
   "source": [
    "b = {7,8,9,5,4,8,5,96}\n",
    "print(b)\n",
    "b.pop()\n",
    "print(b)"
   ]
  },
  {
   "cell_type": "code",
   "execution_count": 56,
   "id": "e4594f59",
   "metadata": {},
   "outputs": [
    {
     "name": "stdout",
     "output_type": "stream",
     "text": [
      "{4, 5, 7, 8, 9}\n"
     ]
    },
    {
     "ename": "TypeError",
     "evalue": "set.pop() takes no arguments (1 given)",
     "output_type": "error",
     "traceback": [
      "\u001b[1;31m---------------------------------------------------------------------------\u001b[0m",
      "\u001b[1;31mTypeError\u001b[0m                                 Traceback (most recent call last)",
      "Cell \u001b[1;32mIn[56], line 2\u001b[0m\n\u001b[0;32m      1\u001b[0m \u001b[38;5;28mprint\u001b[39m(b)\n\u001b[1;32m----> 2\u001b[0m \u001b[43mb\u001b[49m\u001b[38;5;241;43m.\u001b[39;49m\u001b[43mpop\u001b[49m\u001b[43m(\u001b[49m\u001b[38;5;241;43m3\u001b[39;49m\u001b[43m)\u001b[49m\n\u001b[0;32m      3\u001b[0m \u001b[38;5;28mprint\u001b[39m(b)\n",
      "\u001b[1;31mTypeError\u001b[0m: set.pop() takes no arguments (1 given)"
     ]
    }
   ],
   "source": [
    "print(b)\n",
    "b.pop(3)\n",
    "print(b)"
   ]
  },
  {
   "cell_type": "code",
   "execution_count": 57,
   "id": "6b5f69fb",
   "metadata": {},
   "outputs": [
    {
     "name": "stdout",
     "output_type": "stream",
     "text": [
      "{4, 5, 7, 8, 9}\n"
     ]
    },
    {
     "ename": "TypeError",
     "evalue": "set.remove() takes exactly one argument (0 given)",
     "output_type": "error",
     "traceback": [
      "\u001b[1;31m---------------------------------------------------------------------------\u001b[0m",
      "\u001b[1;31mTypeError\u001b[0m                                 Traceback (most recent call last)",
      "Cell \u001b[1;32mIn[57], line 2\u001b[0m\n\u001b[0;32m      1\u001b[0m \u001b[38;5;28mprint\u001b[39m(b)\n\u001b[1;32m----> 2\u001b[0m \u001b[43mb\u001b[49m\u001b[38;5;241;43m.\u001b[39;49m\u001b[43mremove\u001b[49m\u001b[43m(\u001b[49m\u001b[43m)\u001b[49m\n\u001b[0;32m      3\u001b[0m \u001b[38;5;28mprint\u001b[39m(b)\n",
      "\u001b[1;31mTypeError\u001b[0m: set.remove() takes exactly one argument (0 given)"
     ]
    }
   ],
   "source": [
    "print(b)\n",
    "b.remove()\n",
    "print(b)"
   ]
  },
  {
   "cell_type": "code",
   "execution_count": 58,
   "id": "4a33995e",
   "metadata": {},
   "outputs": [
    {
     "name": "stdout",
     "output_type": "stream",
     "text": [
      "{4, 5, 7, 8, 9}\n",
      "{4, 5, 7, 9}\n"
     ]
    }
   ],
   "source": [
    "print(b)\n",
    "b.remove(8)\n",
    "print(b)"
   ]
  },
  {
   "cell_type": "code",
   "execution_count": 59,
   "id": "b220e9f0",
   "metadata": {},
   "outputs": [
    {
     "name": "stdout",
     "output_type": "stream",
     "text": [
      "{4, 5, 7, 9}\n"
     ]
    },
    {
     "ename": "KeyError",
     "evalue": "100",
     "output_type": "error",
     "traceback": [
      "\u001b[1;31m---------------------------------------------------------------------------\u001b[0m",
      "\u001b[1;31mKeyError\u001b[0m                                  Traceback (most recent call last)",
      "Cell \u001b[1;32mIn[59], line 2\u001b[0m\n\u001b[0;32m      1\u001b[0m \u001b[38;5;28mprint\u001b[39m(b)\n\u001b[1;32m----> 2\u001b[0m \u001b[43mb\u001b[49m\u001b[38;5;241;43m.\u001b[39;49m\u001b[43mremove\u001b[49m\u001b[43m(\u001b[49m\u001b[38;5;241;43m100\u001b[39;49m\u001b[43m)\u001b[49m\n\u001b[0;32m      3\u001b[0m \u001b[38;5;28mprint\u001b[39m(b)\n",
      "\u001b[1;31mKeyError\u001b[0m: 100"
     ]
    }
   ],
   "source": [
    "print(b)\n",
    "b.remove(100)\n",
    "print(b)"
   ]
  },
  {
   "cell_type": "code",
   "execution_count": 60,
   "id": "5450b67e",
   "metadata": {},
   "outputs": [
    {
     "name": "stdout",
     "output_type": "stream",
     "text": [
      "{23, 8, 9, 56, 78}\n",
      "{23, 8, 56, 78}\n"
     ]
    }
   ],
   "source": [
    "k = {78,8,9,56,23}\n",
    "print(k)\n",
    "k.discard(9)\n",
    "print(k)"
   ]
  },
  {
   "cell_type": "code",
   "execution_count": 62,
   "id": "0b062dd4",
   "metadata": {},
   "outputs": [
    {
     "name": "stdout",
     "output_type": "stream",
     "text": [
      "{23, 8, 56, 78}\n",
      "{23, 8, 56, 78}\n"
     ]
    }
   ],
   "source": [
    "print(k)\n",
    "k.discard((23,9))\n",
    "print(k)"
   ]
  },
  {
   "cell_type": "code",
   "execution_count": 64,
   "id": "c49632ca",
   "metadata": {},
   "outputs": [
    {
     "name": "stdout",
     "output_type": "stream",
     "text": [
      "{89, 26, 45}\n"
     ]
    },
    {
     "ename": "TypeError",
     "evalue": "'int' object is not iterable",
     "output_type": "error",
     "traceback": [
      "\u001b[1;31m---------------------------------------------------------------------------\u001b[0m",
      "\u001b[1;31mTypeError\u001b[0m                                 Traceback (most recent call last)",
      "Cell \u001b[1;32mIn[64], line 3\u001b[0m\n\u001b[0;32m      1\u001b[0m d \u001b[38;5;241m=\u001b[39m {\u001b[38;5;241m45\u001b[39m,\u001b[38;5;241m89\u001b[39m,\u001b[38;5;241m45\u001b[39m,\u001b[38;5;241m26\u001b[39m}\n\u001b[0;32m      2\u001b[0m \u001b[38;5;28mprint\u001b[39m(d)\n\u001b[1;32m----> 3\u001b[0m \u001b[43md\u001b[49m\u001b[38;5;241;43m.\u001b[39;49m\u001b[43mupdate\u001b[49m\u001b[43m(\u001b[49m\u001b[38;5;241;43m89\u001b[39;49m\u001b[43m)\u001b[49m\n\u001b[0;32m      4\u001b[0m \u001b[38;5;28mprint\u001b[39m(d)\n",
      "\u001b[1;31mTypeError\u001b[0m: 'int' object is not iterable"
     ]
    }
   ],
   "source": [
    "d = {45,89,45,26}\n",
    "print(d)\n",
    "d.update(89)\n",
    "print(d)"
   ]
  },
  {
   "cell_type": "code",
   "execution_count": 65,
   "id": "691b8765",
   "metadata": {},
   "outputs": [
    {
     "name": "stdout",
     "output_type": "stream",
     "text": [
      "{89, 26, 45}\n",
      "{45, 89, 26, 29, 30}\n"
     ]
    }
   ],
   "source": [
    "print(d)\n",
    "d.update([89,29,30])\n",
    "print(d)"
   ]
  },
  {
   "cell_type": "code",
   "execution_count": 66,
   "id": "c8ef7329",
   "metadata": {},
   "outputs": [
    {
     "name": "stdout",
     "output_type": "stream",
     "text": [
      "{3, 5, 6, 9, 780, 45, 78}\n",
      "{450, 3, 6, 89, 12, 78}\n"
     ]
    }
   ],
   "source": [
    "a = {45,78,3,5,6,9,780}\n",
    "b = {78,3,6,450,89,12}\n",
    "print(a)\n",
    "print(b)"
   ]
  },
  {
   "cell_type": "code",
   "execution_count": 67,
   "id": "ee32639d",
   "metadata": {},
   "outputs": [
    {
     "name": "stdout",
     "output_type": "stream",
     "text": [
      "{3, 5, 6, 9, 780, 45, 78}\n",
      "{450, 3, 6, 89, 12, 78}\n",
      "{78, 3, 6}\n",
      "{450, 3, 6, 89, 12, 78}\n"
     ]
    }
   ],
   "source": [
    "print(a)\n",
    "print(b)\n",
    "a.intersection_update(b)\n",
    "print(a)\n",
    "print(b)"
   ]
  },
  {
   "cell_type": "code",
   "execution_count": 68,
   "id": "fee7d240",
   "metadata": {},
   "outputs": [
    {
     "name": "stdout",
     "output_type": "stream",
     "text": [
      "{78, 3, 6}\n",
      "{450, 3, 6, 89, 12, 78}\n",
      "{78, 3, 6}\n",
      "{450, 89, 12}\n"
     ]
    }
   ],
   "source": [
    "print(a)\n",
    "print(b)\n",
    "b.symmetric_difference_update(a)\n",
    "print(a)\n",
    "print(b)"
   ]
  },
  {
   "cell_type": "code",
   "execution_count": 69,
   "id": "22a9d9c6",
   "metadata": {},
   "outputs": [
    {
     "name": "stdout",
     "output_type": "stream",
     "text": [
      "{5, 6, 8, 9, 45}\n",
      "{8, 9, 12, 5}\n",
      "{6, 45}\n",
      "{8, 9, 12, 5}\n"
     ]
    }
   ],
   "source": [
    "y = {45,8,5,9,6}\n",
    "z = {8,5,9,12}\n",
    "print(y)\n",
    "print(z)\n",
    "y.difference_update(z)\n",
    "print(y)\n",
    "print(z)"
   ]
  },
  {
   "cell_type": "code",
   "execution_count": 71,
   "id": "690aaed0",
   "metadata": {},
   "outputs": [
    {
     "ename": "TypeError",
     "evalue": "'set' object is not subscriptable",
     "output_type": "error",
     "traceback": [
      "\u001b[1;31m---------------------------------------------------------------------------\u001b[0m",
      "\u001b[1;31mTypeError\u001b[0m                                 Traceback (most recent call last)",
      "Cell \u001b[1;32mIn[71], line 2\u001b[0m\n\u001b[0;32m      1\u001b[0m \u001b[38;5;28;01mfor\u001b[39;00m i \u001b[38;5;129;01min\u001b[39;00m \u001b[38;5;28mrange\u001b[39m(\u001b[38;5;28mlen\u001b[39m(y)):\n\u001b[1;32m----> 2\u001b[0m     \u001b[38;5;28mprint\u001b[39m(i,\u001b[38;5;28mtype\u001b[39m(i),\u001b[38;5;124m\"\u001b[39m\u001b[38;5;124m=>\u001b[39m\u001b[38;5;124m\"\u001b[39m,\u001b[43my\u001b[49m\u001b[43m[\u001b[49m\u001b[43mi\u001b[49m\u001b[43m]\u001b[49m,\u001b[38;5;28mtype\u001b[39m(y[i]))\n",
      "\u001b[1;31mTypeError\u001b[0m: 'set' object is not subscriptable"
     ]
    }
   ],
   "source": [
    "for i in range(len(y)):\n",
    "    print(i,type(i),\"=>\",y[i],type(y[i]))"
   ]
  },
  {
   "cell_type": "code",
   "execution_count": 72,
   "id": "136362b0",
   "metadata": {},
   "outputs": [
    {
     "ename": "TypeError",
     "evalue": "'set' object is not subscriptable",
     "output_type": "error",
     "traceback": [
      "\u001b[1;31m---------------------------------------------------------------------------\u001b[0m",
      "\u001b[1;31mTypeError\u001b[0m                                 Traceback (most recent call last)",
      "Cell \u001b[1;32mIn[72], line 1\u001b[0m\n\u001b[1;32m----> 1\u001b[0m \u001b[38;5;28mprint\u001b[39m(\u001b[43my\u001b[49m\u001b[43m[\u001b[49m\u001b[38;5;241;43m5\u001b[39;49m\u001b[43m]\u001b[49m)\n",
      "\u001b[1;31mTypeError\u001b[0m: 'set' object is not subscriptable"
     ]
    }
   ],
   "source": [
    "print(y[5])"
   ]
  },
  {
   "cell_type": "code",
   "execution_count": 73,
   "id": "fa4d8226",
   "metadata": {},
   "outputs": [
    {
     "name": "stdout",
     "output_type": "stream",
     "text": [
      "6 <class 'int'>\n",
      "45 <class 'int'>\n"
     ]
    }
   ],
   "source": [
    "for i in y:\n",
    "    print(i,type(i))"
   ]
  },
  {
   "cell_type": "markdown",
   "id": "94a53c53",
   "metadata": {},
   "source": [
    "## Dictionary:"
   ]
  },
  {
   "cell_type": "code",
   "execution_count": 74,
   "id": "7dd264aa",
   "metadata": {},
   "outputs": [
    {
     "name": "stdout",
     "output_type": "stream",
     "text": [
      "{'sname': ['Suresh', 'Kiran'], 'sage': 25} <class 'dict'>\n"
     ]
    }
   ],
   "source": [
    "v = {'sname':['Suresh','Kiran'],'sage':25}\n",
    "print(v,type(v))"
   ]
  },
  {
   "cell_type": "code",
   "execution_count": 76,
   "id": "530e30f1",
   "metadata": {},
   "outputs": [
    {
     "ename": "KeyError",
     "evalue": "0",
     "output_type": "error",
     "traceback": [
      "\u001b[1;31m---------------------------------------------------------------------------\u001b[0m",
      "\u001b[1;31mKeyError\u001b[0m                                  Traceback (most recent call last)",
      "Cell \u001b[1;32mIn[76], line 2\u001b[0m\n\u001b[0;32m      1\u001b[0m \u001b[38;5;28;01mfor\u001b[39;00m i \u001b[38;5;129;01min\u001b[39;00m \u001b[38;5;28mrange\u001b[39m(\u001b[38;5;28mlen\u001b[39m(v)):\n\u001b[1;32m----> 2\u001b[0m     \u001b[38;5;28mprint\u001b[39m(i,\u001b[38;5;28mtype\u001b[39m(i),\u001b[38;5;124m\"\u001b[39m\u001b[38;5;124m=>\u001b[39m\u001b[38;5;124m\"\u001b[39m,\u001b[43mv\u001b[49m\u001b[43m[\u001b[49m\u001b[43mi\u001b[49m\u001b[43m]\u001b[49m,typ(v[i]))\n",
      "\u001b[1;31mKeyError\u001b[0m: 0"
     ]
    }
   ],
   "source": [
    "for i in range(len(v)):\n",
    "    print(i,type(i),\"=>\",v[i],typ(v[i]))"
   ]
  },
  {
   "cell_type": "code",
   "execution_count": 77,
   "id": "6da3022c",
   "metadata": {},
   "outputs": [
    {
     "name": "stdout",
     "output_type": "stream",
     "text": [
      "sname <class 'str'>\n",
      "sage <class 'str'>\n"
     ]
    }
   ],
   "source": [
    "for i in v:\n",
    "    print(i,type(i))"
   ]
  },
  {
   "cell_type": "code",
   "execution_count": 78,
   "id": "23108e1c",
   "metadata": {},
   "outputs": [
    {
     "name": "stdout",
     "output_type": "stream",
     "text": [
      "['__class__', '__class_getitem__', '__contains__', '__delattr__', '__delitem__', '__dir__', '__doc__', '__eq__', '__format__', '__ge__', '__getattribute__', '__getitem__', '__gt__', '__hash__', '__init__', '__init_subclass__', '__ior__', '__iter__', '__le__', '__len__', '__lt__', '__ne__', '__new__', '__or__', '__reduce__', '__reduce_ex__', '__repr__', '__reversed__', '__ror__', '__setattr__', '__setitem__', '__sizeof__', '__str__', '__subclasshook__', 'clear', 'copy', 'fromkeys', 'get', 'items', 'keys', 'pop', 'popitem', 'setdefault', 'update', 'values']\n"
     ]
    }
   ],
   "source": [
    "print(dir(dict))"
   ]
  },
  {
   "cell_type": "code",
   "execution_count": 80,
   "id": "7257943b",
   "metadata": {},
   "outputs": [
    {
     "name": "stdout",
     "output_type": "stream",
     "text": [
      "{'sname': ['Suresh', 'Kiran'], 'sage': 25}\n",
      "['Suresh', 'Kiran']\n",
      "['Suresh', 'Kiran']\n"
     ]
    }
   ],
   "source": [
    "print(v)\n",
    "print(v.get('sname'))\n",
    "print(v['sname'])"
   ]
  },
  {
   "cell_type": "code",
   "execution_count": 82,
   "id": "7e74dd92",
   "metadata": {},
   "outputs": [
    {
     "name": "stdout",
     "output_type": "stream",
     "text": [
      "{'sname': ['Suresh', 'Kiran'], 'sage': 25}\n",
      "dict_values([['Suresh', 'Kiran'], 25])\n",
      "dict_keys(['sname', 'sage'])\n"
     ]
    }
   ],
   "source": [
    "print(v)\n",
    "print(v.values())\n",
    "print(v.keys())"
   ]
  },
  {
   "cell_type": "code",
   "execution_count": 83,
   "id": "8710e524",
   "metadata": {},
   "outputs": [
    {
     "name": "stdout",
     "output_type": "stream",
     "text": [
      "{'sname': ['Suresh', 'Kiran'], 'sage': 25}\n",
      "{'sname': ['Suresh', 'Kiran'], 'sage': 25, 'saddr': None}\n"
     ]
    }
   ],
   "source": [
    "print(v)\n",
    "v.setdefault('saddr')\n",
    "print(v)"
   ]
  },
  {
   "cell_type": "code",
   "execution_count": 89,
   "id": "145b3810",
   "metadata": {},
   "outputs": [
    {
     "name": "stdout",
     "output_type": "stream",
     "text": [
      "{'sname': ['Suresh', 'Kiran'], 'sage': 25, 'saddr': None, ('sbch', 'CSE'): None}\n",
      "{'sname': ['Suresh', 'Kiran'], 'sage': 25, 'saddr': None, ('sbch', 'CSE'): None, 'sbch': 'CSE'}\n"
     ]
    }
   ],
   "source": [
    "print(v)\n",
    "v.setdefault('sbch','CSE')\n",
    "print(v)"
   ]
  },
  {
   "cell_type": "code",
   "execution_count": 90,
   "id": "93cf9dba",
   "metadata": {},
   "outputs": [
    {
     "name": "stdout",
     "output_type": "stream",
     "text": [
      "{'sname': ['Suresh', 'Kiran'], 'sage': 25, 'saddr': None, ('sbch', 'CSE'): None, 'sbch': 'CSE'}\n"
     ]
    },
    {
     "ename": "TypeError",
     "evalue": "dict.popitem() takes no arguments (1 given)",
     "output_type": "error",
     "traceback": [
      "\u001b[1;31m---------------------------------------------------------------------------\u001b[0m",
      "\u001b[1;31mTypeError\u001b[0m                                 Traceback (most recent call last)",
      "Cell \u001b[1;32mIn[90], line 2\u001b[0m\n\u001b[0;32m      1\u001b[0m \u001b[38;5;28mprint\u001b[39m(v)\n\u001b[1;32m----> 2\u001b[0m \u001b[43mv\u001b[49m\u001b[38;5;241;43m.\u001b[39;49m\u001b[43mpopitem\u001b[49m\u001b[43m(\u001b[49m\u001b[43m(\u001b[49m\u001b[38;5;124;43m'\u001b[39;49m\u001b[38;5;124;43msbch\u001b[39;49m\u001b[38;5;124;43m'\u001b[39;49m\u001b[43m,\u001b[49m\u001b[38;5;124;43m'\u001b[39;49m\u001b[38;5;124;43mCSE\u001b[39;49m\u001b[38;5;124;43m'\u001b[39;49m\u001b[43m)\u001b[49m\u001b[43m)\u001b[49m\n\u001b[0;32m      3\u001b[0m \u001b[38;5;28mprint\u001b[39m(v)\n",
      "\u001b[1;31mTypeError\u001b[0m: dict.popitem() takes no arguments (1 given)"
     ]
    }
   ],
   "source": [
    "print(v)\n",
    "v.popitem(('sbch','CSE'))\n",
    "print(v)"
   ]
  },
  {
   "cell_type": "code",
   "execution_count": 91,
   "id": "266ba594",
   "metadata": {},
   "outputs": [
    {
     "name": "stdout",
     "output_type": "stream",
     "text": [
      "{'sname': ['Suresh', 'Kiran'], 'sage': 25, 'saddr': None, ('sbch', 'CSE'): None, 'sbch': 'CSE'}\n",
      "{'sname': ['Suresh', 'Kiran'], 'sage': 25, 'saddr': None, ('sbch', 'CSE'): None}\n"
     ]
    }
   ],
   "source": [
    "print(v)\n",
    "v.popitem()\n",
    "print(v)"
   ]
  },
  {
   "cell_type": "code",
   "execution_count": 92,
   "id": "4dfa5700",
   "metadata": {},
   "outputs": [
    {
     "name": "stdout",
     "output_type": "stream",
     "text": [
      "{'sname': ['Suresh', 'Kiran'], 'sage': 25, 'saddr': None, ('sbch', 'CSE'): None}\n",
      "{'sname': ['Suresh', 'Kiran'], 'sage': 25, 'saddr': None}\n"
     ]
    }
   ],
   "source": [
    "print(v)\n",
    "v.pop(('sbch','CSE'))\n",
    "print(v)"
   ]
  },
  {
   "cell_type": "code",
   "execution_count": 93,
   "id": "2cc369a4",
   "metadata": {},
   "outputs": [
    {
     "name": "stdout",
     "output_type": "stream",
     "text": [
      "{'sname': ['Suresh', 'Kiran'], 'sage': 25, 'saddr': None}\n",
      "{'sname': ['Suresh', 'Kiran'], 'sage': 25, 'saddr': 'KDP'}\n"
     ]
    }
   ],
   "source": [
    "print(v)\n",
    "v.update({'saddr':'KDP'})\n",
    "print(v)"
   ]
  },
  {
   "cell_type": "code",
   "execution_count": 94,
   "id": "a388a291",
   "metadata": {},
   "outputs": [
    {
     "name": "stdout",
     "output_type": "stream",
     "text": [
      "{'sname': ['Suresh', 'Kiran'], 'sage': 25, 'saddr': 'KDP'}\n",
      "{'sname': ['Suresh', 'Kiran'], 'sage': 30, 'saddr': 'KDP'}\n"
     ]
    }
   ],
   "source": [
    "print(v)\n",
    "v['sage'] = 30\n",
    "print(v)"
   ]
  },
  {
   "cell_type": "code",
   "execution_count": 95,
   "id": "610d638b",
   "metadata": {},
   "outputs": [
    {
     "name": "stdout",
     "output_type": "stream",
     "text": [
      "dict_items([('sname', ['Suresh', 'Kiran']), ('sage', 30), ('saddr', 'KDP')])\n"
     ]
    }
   ],
   "source": [
    "print(v.items())"
   ]
  },
  {
   "cell_type": "markdown",
   "id": "caacf0af",
   "metadata": {},
   "source": [
    "## String:"
   ]
  },
  {
   "cell_type": "code",
   "execution_count": 97,
   "id": "903e4e19",
   "metadata": {},
   "outputs": [
    {
     "name": "stdout",
     "output_type": "stream",
     "text": [
      "THis Is an Example For String\n",
      "s\n",
      "THis Is an Example For String <class 'str'>\n"
     ]
    }
   ],
   "source": [
    "j = 'THis Is an Example For String'\n",
    "print(j)\n",
    "print(j[6])\n",
    "print(j,type(j))"
   ]
  },
  {
   "cell_type": "code",
   "execution_count": 98,
   "id": "09c9ad39",
   "metadata": {},
   "outputs": [
    {
     "name": "stdout",
     "output_type": "stream",
     "text": [
      "['__add__', '__class__', '__contains__', '__delattr__', '__dir__', '__doc__', '__eq__', '__format__', '__ge__', '__getattribute__', '__getitem__', '__getnewargs__', '__gt__', '__hash__', '__init__', '__init_subclass__', '__iter__', '__le__', '__len__', '__lt__', '__mod__', '__mul__', '__ne__', '__new__', '__reduce__', '__reduce_ex__', '__repr__', '__rmod__', '__rmul__', '__setattr__', '__sizeof__', '__str__', '__subclasshook__', 'capitalize', 'casefold', 'center', 'count', 'encode', 'endswith', 'expandtabs', 'find', 'format', 'format_map', 'index', 'isalnum', 'isalpha', 'isascii', 'isdecimal', 'isdigit', 'isidentifier', 'islower', 'isnumeric', 'isprintable', 'isspace', 'istitle', 'isupper', 'join', 'ljust', 'lower', 'lstrip', 'maketrans', 'partition', 'removeprefix', 'removesuffix', 'replace', 'rfind', 'rindex', 'rjust', 'rpartition', 'rsplit', 'rstrip', 'split', 'splitlines', 'startswith', 'strip', 'swapcase', 'title', 'translate', 'upper', 'zfill']\n"
     ]
    }
   ],
   "source": [
    "print(dir(str))"
   ]
  },
  {
   "cell_type": "code",
   "execution_count": 99,
   "id": "898bc2d1",
   "metadata": {},
   "outputs": [
    {
     "name": "stdout",
     "output_type": "stream",
     "text": [
      "7 8 9 45\n",
      "['7', '8', '9', '45'] <class 'list'>\n"
     ]
    }
   ],
   "source": [
    "h = input().split()\n",
    "print(h,type(h))"
   ]
  },
  {
   "cell_type": "code",
   "execution_count": null,
   "id": "f93d5a68",
   "metadata": {},
   "outputs": [],
   "source": []
  }
 ],
 "metadata": {
  "kernelspec": {
   "display_name": "Python 3 (ipykernel)",
   "language": "python",
   "name": "python3"
  },
  "language_info": {
   "codemirror_mode": {
    "name": "ipython",
    "version": 3
   },
   "file_extension": ".py",
   "mimetype": "text/x-python",
   "name": "python",
   "nbconvert_exporter": "python",
   "pygments_lexer": "ipython3",
   "version": "3.9.13"
  }
 },
 "nbformat": 4,
 "nbformat_minor": 5
}
