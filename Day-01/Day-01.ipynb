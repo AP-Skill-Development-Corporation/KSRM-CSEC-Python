{
 "cells": [
  {
   "cell_type": "markdown",
   "id": "31be0251",
   "metadata": {},
   "source": [
    "# Python Basics"
   ]
  },
  {
   "cell_type": "markdown",
   "id": "e64c13d5",
   "metadata": {},
   "source": [
    "## Variables:\n",
    "    - To Store a value\n",
    "    - To change a value\n",
    "    Syntax:\n",
    "        variablename = value"
   ]
  },
  {
   "cell_type": "code",
   "execution_count": 1,
   "id": "5adf5162",
   "metadata": {},
   "outputs": [
    {
     "data": {
      "text/plain": [
       "20"
      ]
     },
     "execution_count": 1,
     "metadata": {},
     "output_type": "execute_result"
    }
   ],
   "source": [
    "s = 20\n",
    "s"
   ]
  },
  {
   "cell_type": "code",
   "execution_count": 3,
   "id": "59e3abf9",
   "metadata": {},
   "outputs": [
    {
     "data": {
      "text/plain": [
       "30"
      ]
     },
     "execution_count": 3,
     "metadata": {},
     "output_type": "execute_result"
    }
   ],
   "source": [
    "n = 30\n",
    "h = '25'\n",
    "h\n",
    "n"
   ]
  },
  {
   "cell_type": "code",
   "execution_count": 4,
   "id": "dd0a3f6a",
   "metadata": {},
   "outputs": [
    {
     "data": {
      "text/plain": [
       "'25'"
      ]
     },
     "execution_count": 4,
     "metadata": {},
     "output_type": "execute_result"
    }
   ],
   "source": [
    "n = 30\n",
    "h = '25'\n",
    "n\n",
    "h"
   ]
  },
  {
   "cell_type": "code",
   "execution_count": 5,
   "id": "76cc1b8c",
   "metadata": {},
   "outputs": [
    {
     "data": {
      "text/plain": [
       "(30, '25')"
      ]
     },
     "execution_count": 5,
     "metadata": {},
     "output_type": "execute_result"
    }
   ],
   "source": [
    "n = 30\n",
    "h = '25'\n",
    "n,h"
   ]
  },
  {
   "cell_type": "markdown",
   "id": "4ccc23c4",
   "metadata": {},
   "source": [
    "## Variable Assignments:\n",
    "    - single variable to single value\n",
    "    - n nuber of variables to n number of values\n",
    "    - n number of varialbes to single value"
   ]
  },
  {
   "cell_type": "code",
   "execution_count": 6,
   "id": "b3bb5d33",
   "metadata": {},
   "outputs": [
    {
     "data": {
      "text/plain": [
       "(15, 23.5)"
      ]
     },
     "execution_count": 6,
     "metadata": {},
     "output_type": "execute_result"
    }
   ],
   "source": [
    "n,k = 15,23.500\n",
    "n,k"
   ]
  },
  {
   "cell_type": "code",
   "execution_count": 7,
   "id": "a102a115",
   "metadata": {},
   "outputs": [
    {
     "ename": "ValueError",
     "evalue": "not enough values to unpack (expected 3, got 2)",
     "output_type": "error",
     "traceback": [
      "\u001b[1;31m---------------------------------------------------------------------------\u001b[0m",
      "\u001b[1;31mValueError\u001b[0m                                Traceback (most recent call last)",
      "Cell \u001b[1;32mIn[7], line 1\u001b[0m\n\u001b[1;32m----> 1\u001b[0m n,m,p \u001b[38;5;241m=\u001b[39m \u001b[38;5;241m45\u001b[39m,\u001b[38;5;241m89\u001b[39m\n\u001b[0;32m      2\u001b[0m n,m,p\n",
      "\u001b[1;31mValueError\u001b[0m: not enough values to unpack (expected 3, got 2)"
     ]
    }
   ],
   "source": [
    "n,m,p = 45,89\n",
    "n,m,p"
   ]
  },
  {
   "cell_type": "code",
   "execution_count": 8,
   "id": "1a7b0946",
   "metadata": {},
   "outputs": [
    {
     "ename": "ValueError",
     "evalue": "too many values to unpack (expected 2)",
     "output_type": "error",
     "traceback": [
      "\u001b[1;31m---------------------------------------------------------------------------\u001b[0m",
      "\u001b[1;31mValueError\u001b[0m                                Traceback (most recent call last)",
      "Cell \u001b[1;32mIn[8], line 1\u001b[0m\n\u001b[1;32m----> 1\u001b[0m a,b \u001b[38;5;241m=\u001b[39m \u001b[38;5;241m78\u001b[39m,\u001b[38;5;241m23.00\u001b[39m,\u001b[38;5;241m89\u001b[39m\n\u001b[0;32m      2\u001b[0m a,b\n",
      "\u001b[1;31mValueError\u001b[0m: too many values to unpack (expected 2)"
     ]
    }
   ],
   "source": [
    "a,b = 78,23.00,89\n",
    "a,b"
   ]
  },
  {
   "cell_type": "code",
   "execution_count": 9,
   "id": "b540e5e1",
   "metadata": {},
   "outputs": [
    {
     "data": {
      "text/plain": [
       "(50, 50, 50)"
      ]
     },
     "execution_count": 9,
     "metadata": {},
     "output_type": "execute_result"
    }
   ],
   "source": [
    "z = s = a = 50\n",
    "z,s,a"
   ]
  },
  {
   "cell_type": "code",
   "execution_count": 11,
   "id": "624c59c9",
   "metadata": {},
   "outputs": [
    {
     "name": "stdout",
     "output_type": "stream",
     "text": [
      "45\n"
     ]
    },
    {
     "data": {
      "text/plain": [
       "'45'"
      ]
     },
     "execution_count": 11,
     "metadata": {},
     "output_type": "execute_result"
    }
   ],
   "source": [
    "y = '45'\n",
    "print(y)\n",
    "y"
   ]
  },
  {
   "cell_type": "markdown",
   "id": "fd9cb2f8",
   "metadata": {},
   "source": [
    "## Data Types:\n",
    "    - int -> only numbers\n",
    "    - float -> numbers and decimal values\n",
    "    - string -> enclosed with ' or \"\n",
    "    - boolean -> True or False\n",
    "    - complex -> real ad imaginary part\n",
    "    - none -> none\n",
    "    - All Data Structures like [List,Tuple,Set and Dictionary]"
   ]
  },
  {
   "cell_type": "code",
   "execution_count": 13,
   "id": "7209b6a5",
   "metadata": {},
   "outputs": [
    {
     "name": "stdout",
     "output_type": "stream",
     "text": [
      "12 56.12 True (3+5j) None 78\n"
     ]
    }
   ],
   "source": [
    "a,b,c,d,e,f = 12,56.12,True,3+5j,None,'78'\n",
    "print(a,b,c,d,e,f)"
   ]
  },
  {
   "cell_type": "markdown",
   "id": "9cd0786c",
   "metadata": {},
   "source": [
    "## Type:\n",
    "    - To know the data type of a variable\n",
    "    Syntax:\n",
    "        type(variablename)"
   ]
  },
  {
   "cell_type": "code",
   "execution_count": 14,
   "id": "2ae2f1c8",
   "metadata": {},
   "outputs": [
    {
     "name": "stdout",
     "output_type": "stream",
     "text": [
      "12 <class 'int'>\n",
      "56.12 <class 'float'>\n",
      "True <class 'bool'>\n",
      "(3+5j) <class 'complex'>\n",
      "None <class 'NoneType'>\n",
      "78 <class 'str'>\n"
     ]
    }
   ],
   "source": [
    "a,b,c,d,e,f = 12,56.12,True,3+5j,None,'78'\n",
    "print(a,type(a))\n",
    "print(b,type(b))\n",
    "print(c,type(c))\n",
    "print(d,type(d))\n",
    "print(e,type(e))\n",
    "print(f,type(f))"
   ]
  },
  {
   "cell_type": "markdown",
   "id": "ed837d54",
   "metadata": {},
   "source": [
    "## Input Formatting:\n",
    "    - It stores string data type by default\n",
    "    - It displays an information to a user\n",
    "    - It reads a data from an user\n",
    "    Syntax:\n",
    "        variablename = input(\"Some information\")"
   ]
  },
  {
   "cell_type": "code",
   "execution_count": 3,
   "id": "02e96ffa",
   "metadata": {},
   "outputs": [
    {
     "name": "stdout",
     "output_type": "stream",
     "text": [
      "Enter a value: rajesh\n",
      "rajesh <class 'str'>\n"
     ]
    }
   ],
   "source": [
    "n = input(\"Enter a value: \")\n",
    "print(n,type(n))"
   ]
  },
  {
   "cell_type": "code",
   "execution_count": null,
   "id": "a78a6454",
   "metadata": {},
   "outputs": [],
   "source": [
    "y = 10"
   ]
  },
  {
   "cell_type": "code",
   "execution_count": null,
   "id": "9340d74f",
   "metadata": {},
   "outputs": [],
   "source": []
  }
 ],
 "metadata": {
  "kernelspec": {
   "display_name": "Python 3 (ipykernel)",
   "language": "python",
   "name": "python3"
  },
  "language_info": {
   "codemirror_mode": {
    "name": "ipython",
    "version": 3
   },
   "file_extension": ".py",
   "mimetype": "text/x-python",
   "name": "python",
   "nbconvert_exporter": "python",
   "pygments_lexer": "ipython3",
   "version": "3.9.13"
  }
 },
 "nbformat": 4,
 "nbformat_minor": 5
}
