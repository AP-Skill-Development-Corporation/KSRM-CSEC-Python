{
 "cells": [
  {
   "cell_type": "code",
   "execution_count": 1,
   "id": "e1cee63a",
   "metadata": {},
   "outputs": [
    {
     "name": "stdout",
     "output_type": "stream",
     "text": [
      "Enter a value: 5\n",
      "Enter n value: 6\n",
      "Addition of 5 and 6 is:  56\n"
     ]
    }
   ],
   "source": [
    "a,n = input(\"Enter a value: \"),input(\"Enter n value: \")\n",
    "print(\"Addition of\",a,\"and\",n,\"is: \",(a+n))"
   ]
  },
  {
   "cell_type": "markdown",
   "id": "36d28588",
   "metadata": {},
   "source": [
    "# Typecasting:\n",
    "    - To change a data type of a variable from one data type to another data type\n",
    "    - int()\n",
    "    - float()\n",
    "    - str()\n",
    "    - bool()\n",
    "    - complex()\n",
    "    - All Data Structures [list,tuple,set and dictionary]\n",
    "    Syntax:\n",
    "        datatype(variablename)"
   ]
  },
  {
   "cell_type": "code",
   "execution_count": 3,
   "id": "0b516a19",
   "metadata": {},
   "outputs": [
    {
     "name": "stdout",
     "output_type": "stream",
     "text": [
      "Enter n value: 4\n",
      "Enter m value: 2\n",
      "Addition of 4 and 2 is:  6\n",
      "4 <class 'str'>\n",
      "2 <class 'str'>\n"
     ]
    }
   ],
   "source": [
    "n,m = input(\"Enter n value: \"),input(\"Enter m value: \")\n",
    "print(\"Addition of\",n,\"and\",m,\"is: \",int(n)+int(m))\n",
    "print(n,type(n))\n",
    "print(m,type(m))"
   ]
  },
  {
   "cell_type": "code",
   "execution_count": 4,
   "id": "5e9217fe",
   "metadata": {},
   "outputs": [
    {
     "name": "stdout",
     "output_type": "stream",
     "text": [
      "Enter n value: 4\n",
      "Enter m value: 6\n",
      "Addition of 4 and 6 is: 10\n",
      "4 <class 'int'>\n",
      "6 <class 'int'>\n"
     ]
    }
   ],
   "source": [
    "n,m = int(input(\"Enter n value: \")),int(input(\"Enter m value: \"))\n",
    "print(\"Addition of\",n,\"and\",m,\"is:\",n+m)\n",
    "print(n,type(n))\n",
    "print(m,type(m))"
   ]
  },
  {
   "cell_type": "markdown",
   "id": "e42adb66",
   "metadata": {},
   "source": [
    "## Output Formatting:\n",
    "    - ,\n",
    "    - format specifier\n",
    "    - .format\n",
    "    - f string"
   ]
  },
  {
   "cell_type": "code",
   "execution_count": 8,
   "id": "b3207168",
   "metadata": {},
   "outputs": [
    {
     "name": "stdout",
     "output_type": "stream",
     "text": [
      "Enter n value: 4\n",
      "Enter m value: 5\n",
      "Addition of 4 and 5 is: 9\n",
      "Substraction of 4 and 5 is: -1\n",
      "Division of 4 and 5 is: 0.8\n",
      "Mulitplication of 5 and 4 is: 20\n",
      "Modulus of 4 and 5 is: 4\n"
     ]
    }
   ],
   "source": [
    "n,m = int(input(\"Enter n value: \")),int(input(\"Enter m value: \"))\n",
    "print(\"Addition of\",n,\"and\",m,\"is:\",n+m)\n",
    "print(\"Substraction of %d and %d is: %d\"%(n,m,n-m))\n",
    "print(\"Division of {} and {} is: {}\".format(n,m,n/m))\n",
    "print(\"Mulitplication of {1} and {0} is: {2}\".format(n,m,n*m))\n",
    "print(f\"Modulus of {n} and {m} is: {n%m}\")"
   ]
  },
  {
   "cell_type": "markdown",
   "id": "8ef5345e",
   "metadata": {},
   "source": [
    "## Operators:\n",
    "    - Arithmetic => +,-,*,/,%,//,**\n",
    "    - Relational => >,<,>=,<=,==,!=\n",
    "    - Logical => AND,OR,NOT\n",
    "    - Bitwise => &,|,!,>>,<<,^\n",
    "    - Assignment => +=,-=,/=,*=,//=,%=,**=\n",
    "    - Membership => in,not in\n",
    "    - Identity => is,is not"
   ]
  },
  {
   "cell_type": "markdown",
   "id": "3d861f5a",
   "metadata": {},
   "source": [
    "```\n",
    "    3x+y\n",
    "Input:\n",
    "    4\n",
    "    5\n",
    "Output:\n",
    "    17\n",
    "\n",
    "Input:\n",
    "    2\n",
    "    3\n",
    "Output:\n",
    "    9\n",
    "```"
   ]
  },
  {
   "cell_type": "code",
   "execution_count": 11,
   "id": "0060332b",
   "metadata": {},
   "outputs": [
    {
     "name": "stdout",
     "output_type": "stream",
     "text": [
      "4\n",
      "85\n",
      "97\n"
     ]
    }
   ],
   "source": [
    "n,m = int(input()),int(input())\n",
    "print(3*n+m)"
   ]
  },
  {
   "cell_type": "markdown",
   "id": "c387dd8e",
   "metadata": {},
   "source": [
    "```\n",
    "    3x^2 + 9y^3 + 2z\n",
    "```"
   ]
  },
  {
   "cell_type": "code",
   "execution_count": 12,
   "id": "5cd19d4c",
   "metadata": {},
   "outputs": [
    {
     "name": "stdout",
     "output_type": "stream",
     "text": [
      "2\n",
      "1\n",
      "4\n",
      "29\n"
     ]
    }
   ],
   "source": [
    "n,m,k = int(input()),int(input()),int(input())\n",
    "print(3*n**2+9*m**3+2*k)"
   ]
  },
  {
   "cell_type": "code",
   "execution_count": 13,
   "id": "e213e046",
   "metadata": {},
   "outputs": [],
   "source": [
    "import keyword"
   ]
  },
  {
   "cell_type": "code",
   "execution_count": 14,
   "id": "02db7d61",
   "metadata": {},
   "outputs": [
    {
     "name": "stdout",
     "output_type": "stream",
     "text": [
      "['__all__', '__builtins__', '__cached__', '__doc__', '__file__', '__loader__', '__name__', '__package__', '__spec__', 'iskeyword', 'issoftkeyword', 'kwlist', 'softkwlist']\n"
     ]
    }
   ],
   "source": [
    "print(dir(keyword))"
   ]
  },
  {
   "cell_type": "code",
   "execution_count": 16,
   "id": "513d4a83",
   "metadata": {},
   "outputs": [
    {
     "name": "stdout",
     "output_type": "stream",
     "text": [
      "['False', 'None', 'True', '__peg_parser__', 'and', 'as', 'assert', 'async', 'await', 'break', 'class', 'continue', 'def', 'del', 'elif', 'else', 'except', 'finally', 'for', 'from', 'global', 'if', 'import', 'in', 'is', 'lambda', 'nonlocal', 'not', 'or', 'pass', 'raise', 'return', 'try', 'while', 'with', 'yield']\n",
      "36\n"
     ]
    }
   ],
   "source": [
    "print(keyword.kwlist)\n",
    "print(len(keyword.kwlist))"
   ]
  },
  {
   "cell_type": "code",
   "execution_count": null,
   "id": "6e913728",
   "metadata": {},
   "outputs": [],
   "source": []
  }
 ],
 "metadata": {
  "kernelspec": {
   "display_name": "Python 3 (ipykernel)",
   "language": "python",
   "name": "python3"
  },
  "language_info": {
   "codemirror_mode": {
    "name": "ipython",
    "version": 3
   },
   "file_extension": ".py",
   "mimetype": "text/x-python",
   "name": "python",
   "nbconvert_exporter": "python",
   "pygments_lexer": "ipython3",
   "version": "3.9.13"
  }
 },
 "nbformat": 4,
 "nbformat_minor": 5
}
